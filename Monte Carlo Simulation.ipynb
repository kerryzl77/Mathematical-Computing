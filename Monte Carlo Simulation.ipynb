{
 "cells": [
  {
   "cell_type": "markdown",
   "id": "4a7f4760-f651-40f2-818c-70af7280c393",
   "metadata": {},
   "source": [
    "# MT3510 Statistics Project"
   ]
  },
  {
   "cell_type": "markdown",
   "id": "0db88d25-2840-421f-b7e0-c9ad236c9fbe",
   "metadata": {},
   "source": [
    "For the individual statsitics project, you will develop a Monte Carlo (bootstrap) approach to estimating confidence intervals for linear regression. Don't worry if you haven't heard of these before, below is a description of what these and how to do the basics of these in Python.\n",
    "\n",
    "## Getting help\n",
    "\n",
    "Questions and queries are permitted, within reason, and can be directed to Dr Swallow or the week 9 & 10 lab demonstrators. The preferred route of contact for outside the lab is email (bts3@).\n",
    "\n",
    "## Submitting the project\n",
    "\n",
    "Submission deadline is 5pm Friday 7th April via MySaint/MMS.\n",
    "\n",
    "Use the cells provided to write the necessary code and (you should not need any additional cells). Submit a single Notebook file (as with the tutorials).\n",
    "\n",
    "Late submissions will be dealt with using the standard policy (see [here](https://www.st-andrews.ac.uk/mathematics-statistics/students/taught-modules/late-work/)).\n",
    "\n",
    "## Marking breakdown\n",
    "\n",
    "| Code  (70%)                   | Written Answers (30%) |\n",
    "| --------------------------- | ------------------- |\n",
    "| Correct results (50%)         | Accuracy (20%)        |\n",
    "| Readability and style (20%)   | Conciseness (10%)     |"
   ]
  },
  {
   "cell_type": "markdown",
   "id": "d2264416-cb9b-4f1b-81d7-585cf7c6a861",
   "metadata": {},
   "source": [
    "# Background"
   ]
  },
  {
   "cell_type": "markdown",
   "id": "409c6cf0-bbbe-4ba6-9359-287c962e1f45",
   "metadata": {},
   "source": [
    "## Linear regression"
   ]
  },
  {
   "cell_type": "markdown",
   "id": "19a0c8c5-a13a-4c12-9e15-dbfe6c868727",
   "metadata": {},
   "source": [
    "Simple linear regression is a common statistical model that aims to find the 'best' line through two potentailly related measurements. For example, you may want to know what the relationship is between student's performance in sub-honours (let's call this $x$) and their subsequent performance in honours courses (let's call this $y$). We might think it makes sense that those who get better grades at sub-honours are more likely to perform well at honours level.\n",
    "\n",
    "To test this, we fit a line of the form:\n",
    "\n",
    "$$y = \\beta_0 + \\beta_1 x + \\epsilon$$\n",
    "\n",
    "where $\\beta_0$ is called the intercept and represents the performance of a student at honours level who obtained a zero at sub-honours (i.e., $x=0$). $\\beta_1$ is called the slope parameter and is a measure of the 'steepness' or gradient of the relationship between the two measurements. $\\beta_1$ is the amount by which a student's performance at honours will change for every increase of one in their sub-honours grade. $\\epsilon$ is an error term that allows for some difference between the line and the corresponding data point (we don't expect the line to go exactly through all the points).\n",
    "\n",
    "For example, see the follwing plot: $\\beta_0$ is the height on the y-axis of the solid black line; $\\beta_1$ is the length of the vertical dotted line, showing the increase in $y$ from $x=3$ to $x=4$.\n",
    "\n",
    "![Linear regression example](./linreg.jpeg)"
   ]
  },
  {
   "cell_type": "markdown",
   "id": "be4a56aa-b586-4f75-81fa-628162a6b29a",
   "metadata": {},
   "source": [
    "## Confidence intervals"
   ]
  },
  {
   "cell_type": "markdown",
   "id": "917d6eee-b684-4ec6-8757-da25b8961bde",
   "metadata": {},
   "source": [
    "Confidence intervals are intervals in statistics that enable us to determine likely plausible values for quantities of interest. The commenest way of estimating these intervals is to use statistical theory to determine the behaviours of our estimates, accounting for the fact that we only ever collect data on a subset of the population we are really interested in. For example, if we wanted to know the average height of students in St Andrews, we would likely not be able to measure the height of every student. Instead, we would measure the height of a sample of students and use this sample to try and make inference about the average height of students. \n",
    "\n",
    "\n",
    "\n",
    "An alternative approach to the theoretical estimate of confidence intervals is to use Monte Carlo approaches. Here we randomly sample our data many times with replacement (i.e., observations can be selected multiple times). The idea is, following the student height example, is that if we have collected a random sample from all students, the ones we did not measure should be similar to those we did measure and we can use sampling with replacement to generate alternative scenarios. \n",
    "\n",
    "In a Monte Carlo approach to constructing confidence intervals, we:\n",
    "\n",
    "* generate lots of new datasets from the data we have, of the same dimensions as the original dataset\n",
    "* fit our statistical model to each of these datasets\n",
    "* extract the quantity of interest\n",
    "* repeat many times and create an interval from these\n",
    "\n",
    "We can then use the estimates of the parameters across all these datasets to determine a range of plausible values for the parameters.\n"
   ]
  },
  {
   "cell_type": "markdown",
   "id": "4acc75bb-67c3-4536-bccc-c6b4dc010eca",
   "metadata": {},
   "source": [
    "### Fitting a linear regerssion in Python"
   ]
  },
  {
   "cell_type": "code",
   "execution_count": 1,
   "id": "22335aa7-e5de-4242-8b58-edf81593040c",
   "metadata": {
    "ExecuteTime": {
     "end_time": "2023-04-10T10:12:32.568284Z",
     "start_time": "2023-04-10T10:12:31.573930Z"
    }
   },
   "outputs": [
    {
     "name": "stdout",
     "output_type": "stream",
     "text": [
      "params = [6.08611111 0.51166667]\n",
      "conf interval = [[-2.91449454 15.08671676]\n",
      " [ 0.338182    0.68515133]]\n"
     ]
    }
   ],
   "source": [
    "import numpy as np\n",
    "import statsmodels.api as sm\n",
    "import pandas as pd\n",
    "\n",
    "#Combine the X matrix with a (column of) 1s to estimate \\beta_0\n",
    "X = sm.add_constant(np.array([5, 15, 25, 35, 45, 55, 65, 75, 85]).reshape((-1, 1)))\n",
    "y = np.array([5, 20, 14, 32, 22, 38, 35, 45, 51])\n",
    "parout=np.zeros([100,2])\n",
    "mod = sm.OLS(y, X)\n",
    "\n",
    "res = mod.fit()\n",
    "\n",
    "# Using print(res.summary()) will give you extensive detailss\n",
    "# of the model fit\n",
    "\n",
    "# Print beta_0 and beta_1\n",
    "print(f'params =', res.params)\n",
    "\n",
    "# Print exact 95% CI (alpha=0.05) for beta_0 and beta_1\n",
    "print(f'conf interval =', res.conf_int(0.05))"
   ]
  },
  {
   "cell_type": "markdown",
   "id": "e6a91889-7e6e-41d4-96dd-9f6b5757a197",
   "metadata": {},
   "source": [
    "# Assessment\n"
   ]
  },
  {
   "cell_type": "markdown",
   "id": "72845f9f-a19b-4a3f-a7f3-9773b9e8c443",
   "metadata": {},
   "source": [
    "Scrape the data from [this website on CO2 emissions by country](https://www.worldometers.info/co2-emissions/co2-emissions-by-country/). *(Hint: You may be able to use a similar approach to the IMDB example discussed in the lecture, but now you have multiple entries in the table, not just one)*\n",
    "\n",
    "*(Additional hint: the `str.replace('a', 'b')` function can be applied to `pandas` DataFrame (column) to replace each recurrence of character `a` with the character `b`.)\n",
    "\n",
    "\n",
    "Develop a Monte Carlo bootstrap simulation procedure to construct a confidence interval for the two linear regression parameters (intercept and slope) using the scraped data. Assume your response variable (y) is CO2 Emissions (tons, 2016) and your covariate (x) is Population (2016).\n",
    "\n"
   ]
  },
  {
   "cell_type": "markdown",
   "id": "7a5766c9-a62e-41b3-8e07-9b29e1aad2ed",
   "metadata": {},
   "source": [
    "1. Write a function called `mcsim(df,N,alpha)` which takes as inputs the `Pandas` dataframe `df` you have scraped, the number `N` of Monte Carlo simulations you require, and the confidence level `alpha`. The function should resample the data `N` times, fit a linear model to each new dataset, and store the estimates of intercept and slope. The function should then return a `Pandas` dataframe output with two columns, 'Intercept' and 'Slope', with the rows being the `N` estimates of the parameters. \n",
    "\n",
    "2. Run your function for all combinations of $N\\in[100,500,1000]$ and $\\alpha\\in[0.01,0.05,0.1]$ and store as a dictionary where the keys are of the form `N_alpha`. Produce histograms of your outputs for each combination as subplots in a figure. The rows of subfigures should be increasing N and the columns increasing $\\alpha$.\n",
    "\n",
    "3. Calculate the confidence region for each setting and save to a python dictionary object called `confint`, where the rows are increasing sizes of `N` and the columns are increasing `alpha` and keys are of the form `N_alpha`. \n",
    "\n",
    "4. Fit a linear model to the original dataset and extract the exact confidence interval for the two parameters. \n",
    "\n",
    "5. Add vertical lines to the histogram to show the exact and approximate regions clearly in different colours and/or line types. Each plot title should portray what the setting values are for that plot.\n",
    "\n",
    "6. Write a short description (no more than 150 words) on your procedure and comparing your MC estimates with this exact interval in the box below."
   ]
  },
  {
   "cell_type": "markdown",
   "id": "7bfc6012",
   "metadata": {},
   "source": [
    "Pre-step: Scrape the data"
   ]
  },
  {
   "cell_type": "code",
   "execution_count": 2,
   "id": "a39b59ef-4ba4-4ca4-9c30-d11fae282314",
   "metadata": {
    "ExecuteTime": {
     "end_time": "2023-04-10T10:12:33.023563Z",
     "start_time": "2023-04-10T10:12:32.570887Z"
    }
   },
   "outputs": [],
   "source": [
    "#Your Python data scraping code here\n",
    "import numpy as np\n",
    "import pandas as pd\n",
    "import statsmodels.api as sm\n",
    "import requests\n",
    "from bs4 import BeautifulSoup\n",
    "import ast\n",
    "import re\n",
    "import matplotlib.pyplot as plt\n",
    "\n",
    "\n"
   ]
  },
  {
   "cell_type": "code",
   "execution_count": 3,
   "id": "8f544eab",
   "metadata": {
    "ExecuteTime": {
     "end_time": "2023-04-10T10:12:33.635926Z",
     "start_time": "2023-04-10T10:12:33.026026Z"
    }
   },
   "outputs": [],
   "source": [
    "page = requests.get('https://www.worldometers.info/co2-emissions/co2-emissions-by-country/') \n",
    "soup = BeautifulSoup(page.content, 'html.parser') \n",
    "table = soup.find('table')\n",
    "table_rows = table.find_all('tr') \n",
    "header_row = table.find_all('th')"
   ]
  },
  {
   "cell_type": "code",
   "execution_count": 4,
   "id": "c21f6f52",
   "metadata": {
    "ExecuteTime": {
     "end_time": "2023-04-10T10:12:33.675325Z",
     "start_time": "2023-04-10T10:12:33.639488Z"
    }
   },
   "outputs": [],
   "source": [
    "data = []\n",
    "# Set the column names using a header list\n",
    "header = [th.text.strip() for th in header_row if th.text.strip()]\n",
    "# Get the DataFrame's content \n",
    "for tr in table_rows:\n",
    "    td = tr.find_all('td')\n",
    "    row = [tr.text.strip() for tr in td if tr.text.strip()]\n",
    "    data.append(row)\n",
    "\n",
    "df = pd.DataFrame(data)\n",
    "df.columns = header\n",
    "df = df.reset_index(drop=True)\n",
    "# Drop the empty first row\n",
    "df = df.drop(0)\n",
    "df = df.reset_index(drop=True)\n",
    "# Convert the 'x' and 'y' value into integers\n",
    "df['CO2 Emissions (tons, 2016)'] = df['CO2 Emissions (tons, 2016)'].str.replace(',', '').astype(int)\n",
    "df['Population (2016)'] = df['Population (2016)'].str.replace(',', '').astype(int)\n",
    "\n",
    "# Test\n",
    "# df"
   ]
  },
  {
   "cell_type": "markdown",
   "id": "3e18a224",
   "metadata": {},
   "source": [
    "Step 1: Fit a linear model to the original dataset and extract the exact confidence interval for the two parameters."
   ]
  },
  {
   "cell_type": "code",
   "execution_count": 5,
   "id": "a8d401c5",
   "metadata": {
    "ExecuteTime": {
     "end_time": "2023-04-10T10:12:33.684265Z",
     "start_time": "2023-04-10T10:12:33.677516Z"
    }
   },
   "outputs": [],
   "source": [
    "# Variable ‘y is CO2 Emissions (tons, 2016) and ’x is Population (2016)\n",
    "y = df.loc[:,\"CO2 Emissions (tons, 2016)\"]\n",
    "x = df.loc[:,\"Population (2016)\"]\n",
    "# Standardize x\n",
    "x_standardized = (x - x.mean()) / x.std()\n",
    "\n"
   ]
  },
  {
   "cell_type": "code",
   "execution_count": 6,
   "id": "4b20cf92",
   "metadata": {
    "ExecuteTime": {
     "end_time": "2023-04-10T10:12:33.703971Z",
     "start_time": "2023-04-10T10:12:33.686460Z"
    }
   },
   "outputs": [],
   "source": [
    "x_array = x_standardized.to_numpy() \n",
    "y_array = y.to_numpy() \n",
    "X = sm.add_constant(x_array.reshape((-1, 1)))\n",
    "parout=np.zeros([100,2])\n",
    "mod = sm.OLS(y_array, X)\n",
    "\n",
    "res = mod.fit()"
   ]
  },
  {
   "cell_type": "code",
   "execution_count": 7,
   "id": "a025075e",
   "metadata": {
    "ExecuteTime": {
     "end_time": "2023-04-10T10:12:33.722260Z",
     "start_time": "2023-04-10T10:12:33.706431Z"
    }
   },
   "outputs": [
    {
     "name": "stdout",
     "output_type": "stream",
     "text": [
      "params = [1.65387452e+08 6.85495639e+08]\n"
     ]
    }
   ],
   "source": [
    "# Print exact value of beta_0 and beta_1 for reference \n",
    "print(f'params =', res.params)"
   ]
  },
  {
   "cell_type": "code",
   "execution_count": 8,
   "id": "52f8a962",
   "metadata": {
    "ExecuteTime": {
     "end_time": "2023-04-10T10:12:33.746102Z",
     "start_time": "2023-04-10T10:12:33.724922Z"
    }
   },
   "outputs": [
    {
     "name": "stdout",
     "output_type": "stream",
     "text": [
      "Confidence interval for alpha 0.01:\n",
      "[[8.07628784e+07 2.50012026e+08]\n",
      " [6.00667885e+08 7.70323394e+08]]\n",
      "Confidence interval for alpha 0.05:\n",
      "[[1.01214329e+08 2.29560575e+08]\n",
      " [6.21168439e+08 7.49822840e+08]]\n",
      "Confidence interval for alpha 0.1:\n",
      "[[1.11605846e+08 2.19169058e+08]\n",
      " [6.31584906e+08 7.39406373e+08]]\n"
     ]
    }
   ],
   "source": [
    "# Print exact CI for beta_0 and beta_1\n",
    "N = [100,500,1000]\n",
    "alpha = [0.01,0.05,0.1]\n",
    "\n",
    "exact_conf_intervals = {}\n",
    "\n",
    "for a in alpha:\n",
    "    conf_interval = res.conf_int(a)\n",
    "    exact_conf_intervals[a] = conf_interval\n",
    "\n",
    "for a, conf_interval in exact_conf_intervals.items():\n",
    "    print(f\"Confidence interval for alpha {a}:\")\n",
    "    print(conf_interval)"
   ]
  },
  {
   "cell_type": "markdown",
   "id": "b9b2b62a",
   "metadata": {},
   "source": [
    "Step 2: Write the function mcsim(df,N)"
   ]
  },
  {
   "cell_type": "code",
   "execution_count": 9,
   "id": "aaa16823",
   "metadata": {
    "ExecuteTime": {
     "end_time": "2023-04-10T10:12:33.766674Z",
     "start_time": "2023-04-10T10:12:33.748958Z"
    }
   },
   "outputs": [],
   "source": [
    "def mcsim(df, N):\n",
    "    intercept = []\n",
    "    slope = []\n",
    "    for i in range(N):\n",
    "        resampled = df.sample(frac=1, replace=True)\n",
    "        x = resampled['Population (2016)']\n",
    "        # Standardize x\n",
    "        x_standardized = (x - x.mean()) / x.std()\n",
    "        x = sm.add_constant(x_standardized.values.reshape(-1, 1))\n",
    "        y = resampled['CO2 Emissions (tons, 2016)'].values.reshape(-1, 1)\n",
    "        mod = sm.OLS(y, x)\n",
    "        res = mod.fit()\n",
    "        intercept.append(res.params[0])\n",
    "        slope.append(res.params[1])\n",
    "    return pd.DataFrame({'Intercept': intercept, 'Slope': slope})\n",
    "\n",
    "# Test\n",
    "# mcsim(df, 10)"
   ]
  },
  {
   "cell_type": "markdown",
   "id": "f8170e9c",
   "metadata": {},
   "source": [
    "Step 3: Run function on different N & alpha and store as the dictionary 'confint'"
   ]
  },
  {
   "cell_type": "code",
   "execution_count": 10,
   "id": "79eef931",
   "metadata": {
    "ExecuteTime": {
     "end_time": "2023-04-10T10:12:39.966270Z",
     "start_time": "2023-04-10T10:12:33.772577Z"
    }
   },
   "outputs": [],
   "source": [
    "results = {}\n",
    "confint = {}\n",
    "\n",
    "for n in N:\n",
    "    for a in alpha:\n",
    "        key = f\"{n}_{a}\"\n",
    "        results[key] = mcsim(df, n)\n",
    "        \n",
    "        lower_bound = a / 2\n",
    "        upper_bound = 1 - (a / 2)\n",
    "        \n",
    "        intercept_confint = np.quantile(results[key]['Intercept'], q=[lower_bound, upper_bound])\n",
    "        slope_confint = np.quantile(results[key]['Slope'], q=[lower_bound, upper_bound])\n",
    "        \n",
    "        confint[key] = {'Intercept': intercept_confint, 'Slope': slope_confint}\n"
   ]
  },
  {
   "cell_type": "code",
   "execution_count": 11,
   "id": "da5558fa",
   "metadata": {
    "ExecuteTime": {
     "end_time": "2023-04-10T10:12:39.981429Z",
     "start_time": "2023-04-10T10:12:39.968959Z"
    }
   },
   "outputs": [
    {
     "data": {
      "text/plain": [
       "{'100_0.01': {'Intercept': array([6.46129129e+07, 2.86033102e+08]),\n",
       "  'Slope': array([7.99567415e+07, 1.32505598e+09])},\n",
       " '100_0.05': {'Intercept': array([7.57011818e+07, 3.08907203e+08]),\n",
       "  'Slope': array([1.17799957e+08, 1.22644829e+09])},\n",
       " '100_0.1': {'Intercept': array([7.83141834e+07, 2.61832776e+08]),\n",
       "  'Slope': array([1.21748024e+08, 1.12198112e+09])},\n",
       " '500_0.01': {'Intercept': array([6.61801268e+07, 3.39451606e+08]),\n",
       "  'Slope': array([7.75065352e+07, 1.38930028e+09])},\n",
       " '500_0.05': {'Intercept': array([7.80099514e+07, 2.91450275e+08]),\n",
       "  'Slope': array([1.10740444e+08, 1.26149576e+09])},\n",
       " '500_0.1': {'Intercept': array([8.35969456e+07, 2.74339479e+08]),\n",
       "  'Slope': array([1.38228542e+08, 1.21753500e+09])},\n",
       " '1000_0.01': {'Intercept': array([6.12982513e+07, 3.45440331e+08]),\n",
       "  'Slope': array([7.52934901e+07, 1.43396155e+09])},\n",
       " '1000_0.05': {'Intercept': array([7.92624409e+07, 2.95768910e+08]),\n",
       "  'Slope': array([1.17652460e+08, 1.26469999e+09])},\n",
       " '1000_0.1': {'Intercept': array([8.53971692e+07, 2.67968174e+08]),\n",
       "  'Slope': array([1.93555877e+08, 1.18771092e+09])}}"
      ]
     },
     "execution_count": 11,
     "metadata": {},
     "output_type": "execute_result"
    }
   ],
   "source": [
    "confint"
   ]
  },
  {
   "cell_type": "markdown",
   "id": "4e48a047",
   "metadata": {},
   "source": [
    "Step 4: Produce histograms on \"Slope (beta_1)\""
   ]
  },
  {
   "cell_type": "code",
   "execution_count": 12,
   "id": "f3d7e97d",
   "metadata": {
    "ExecuteTime": {
     "end_time": "2023-04-10T10:12:41.698285Z",
     "start_time": "2023-04-10T10:12:39.983229Z"
    }
   },
   "outputs": [
    {
     "data": {
      "image/png": "[encoded data removed]",
      "text/plain": [
       "<Figure size 1080x720 with 9 Axes>"
      ]
     },
     "metadata": {
      "needs_background": "light"
     },
     "output_type": "display_data"
    }
   ],
   "source": [
    "fig, ax = plt.subplots(len(N), len(alpha), figsize=(15, 10))\n",
    "\n",
    "for i, n in enumerate(N):\n",
    "    for j, a in enumerate(alpha):\n",
    "        key = f\"{n}_{a}\"\n",
    "        ax[i, j].hist(results[key]['Slope'], label=f\"Slope N={n} α={a}\")\n",
    "        ax[i, j].axvline(x=res.conf_int(a)[1][0],color='r', label = \"exact\")\n",
    "        ax[i, j].axvline(x=res.conf_int(a)[1][1],color='r')\n",
    "        ax[i, j].axvline(x=confint[key]['Slope'][0],color='y', label = \"simulate\")\n",
    "        ax[i, j].axvline(x=confint[key]['Slope'][1],color='y')\n",
    "        ax[i, j].legend(loc='upper right')\n",
    "\n",
    "plt.tight_layout()\n",
    "plt.show()"
   ]
  },
  {
   "cell_type": "markdown",
   "id": "9186d1c9",
   "metadata": {},
   "source": [
    "Step 5: Produce histograms on \"Intercept (beta_0)\""
   ]
  },
  {
   "cell_type": "code",
   "execution_count": 13,
   "id": "b3859d2e",
   "metadata": {
    "ExecuteTime": {
     "end_time": "2023-04-10T10:12:43.015242Z",
     "start_time": "2023-04-10T10:12:41.699965Z"
    }
   },
   "outputs": [
    {
     "data": {
      "image/png": "[encoded data removed]",
      "text/plain": [
       "<Figure size 1080x720 with 9 Axes>"
      ]
     },
     "metadata": {
      "needs_background": "light"
     },
     "output_type": "display_data"
    }
   ],
   "source": [
    "fig, ax = plt.subplots(len(N), len(alpha), figsize=(15, 10))\n",
    "\n",
    "for i, n in enumerate(N):\n",
    "    for j, a in enumerate(alpha):\n",
    "        key = f\"{n}_{a}\"\n",
    "        ax[i, j].hist(results[key]['Intercept'], label=f\"Intercept N={n} α={a}\")\n",
    "        ax[i, j].axvline(x=res.conf_int(a)[0][0],color='r', label = \"exact\")\n",
    "        ax[i, j].axvline(x=res.conf_int(a)[0][1],color='r')\n",
    "        ax[i, j].axvline(x=confint[key]['Intercept'][0],color='y', label = \"simulate\")\n",
    "        ax[i, j].axvline(x=confint[key]['Intercept'][1],color='y')\n",
    "        ax[i, j].legend(loc='upper right')\n",
    "        \n",
    "\n",
    "plt.tight_layout()\n",
    "plt.show()\n",
    "     \n"
   ]
  },
  {
   "cell_type": "markdown",
   "id": "95767ec3-f084-47a9-b591-4b715e62123f",
   "metadata": {},
   "source": [
    "Step 6: Written Description"
   ]
  },
  {
   "cell_type": "markdown",
   "id": "cdc61b4b",
   "metadata": {},
   "source": [
    "First, I calculated the exact confidence intervals (CI), then conducted simulations, followed by visualizing the results through histograms with exact CI and simulated CI. \n",
    "\n",
    "Comparing the Monte Carlo (MC) estimates with the exact CI reveals that the approximation error decreases with increasing N, while the MC CI widens with decreasing alpha (0.99 CI wider than 0.9). The wider intervals indicate more uncertainty in the estimates. The MC CI is generally wider than the exact ones. This variability in estimation arises from the inherent randomness of the resampling (with replacement) bootstrap approach. \n",
    "\n",
    "In addition, since the MC CI for Intercept is closer to its exact CI, we might conclude that the Intercept is less sensitive to the variability in the data compared with the Slope. \n",
    "\n",
    "The above trend can be understood in the context of the regression model. Intercept (beta_0) is the estimated value of CO2 emissions when the population is 0, and Slope (beta_1) is the estimated change in CO2 emissions for a one-unit increase in the (standardized) population. Both values (along with the MC and exact CIs) are positive, indicating that as the population increase, CO2 emission also increases. \n"
   ]
  },
  {
   "cell_type": "code",
   "execution_count": null,
   "id": "e706bd50",
   "metadata": {},
   "outputs": [],
   "source": []
  }
 ],
 "metadata": {
  "kernelspec": {
   "display_name": "Python 3 (ipykernel)",
   "language": "python",
   "name": "python3"
  },
  "language_info": {
   "codemirror_mode": {
    "name": "ipython",
    "version": 3
   },
   "file_extension": ".py",
   "mimetype": "text/x-python",
   "name": "python",
   "nbconvert_exporter": "python",
   "pygments_lexer": "ipython3",
   "version": "3.9.7"
  },
  "toc": {
   "base_numbering": 1,
   "nav_menu": {},
   "number_sections": true,
   "sideBar": true,
   "skip_h1_title": false,
   "title_cell": "Table of Contents",
   "title_sidebar": "Contents",
   "toc_cell": false,
   "toc_position": {},
   "toc_section_display": true,
   "toc_window_display": false
  },
  "varInspector": {
   "cols": {
    "lenName": 16,
    "lenType": 16,
    "lenVar": 40
   },
   "kernels_config": {
    "python": {
     "delete_cmd_postfix": "",
     "delete_cmd_prefix": "del ",
     "library": "var_list.py",
     "varRefreshCmd": "print(var_dic_list())"
    },
    "r": {
     "delete_cmd_postfix": ") ",
     "delete_cmd_prefix": "rm(",
     "library": "var_list.r",
     "varRefreshCmd": "cat(var_dic_list()) "
    }
   },
   "types_to_exclude": [
    "module",
    "function",
    "builtin_function_or_method",
    "instance",
    "_Feature"
   ],
   "window_display": false
  }
 },
 "nbformat": 4,
 "nbformat_minor": 5
}
