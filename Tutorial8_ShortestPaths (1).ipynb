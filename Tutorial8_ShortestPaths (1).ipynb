{
 "cells": [
  {
   "cell_type": "markdown",
   "id": "60b5c130",
   "metadata": {},
   "source": [
    "## Instructions\n",
    "\n",
    "Before you turn this problem in, make sure everything runs as expected. First, **restart the kernel** (in the menubar, select Kernel$\\rightarrow$Restart) and then **run all cells** (in the menubar, select Cell$\\rightarrow$Run All).\n",
    "\n",
    "Please see the [module book](https://moody.st-andrews.ac.uk/moodle/mod/resource/view.php?id=950238) for full instructions on completing your tutorial work.\n",
    "\n",
    "Make sure you *only* fill in places that say `YOUR CODE HERE` or \"YOUR ANSWER HERE\". Replace the contents of those cells only, changing other cells may prevent grading.\n",
    "\n",
    "When using matplotlib please make sure to use the inline option (not notebook) to allow grading: \n",
    "`%matplotlib inline`\n",
    "\n"
   ]
  },
  {
   "cell_type": "markdown",
   "id": "f4dc9455",
   "metadata": {},
   "source": [
    "---"
   ]
  },
  {
   "cell_type": "markdown",
   "id": "e404d117",
   "metadata": {
    "deletable": false,
    "editable": false,
    "nbgrader": {
     "cell_type": "markdown",
     "checksum": "f33755d90559fc9c6a964adc00806b34",
     "grade": false,
     "grade_id": "cell-cfac08fc6ba1593e",
     "locked": true,
     "schema_version": 3,
     "solution": false,
     "task": false
    }
   },
   "source": [
    "<font size=\"4\" >\n",
    "\n",
    "    \n",
    "# Tutorial 8: Shortest Paths\n",
    "\n",
    "Given a graph $G$, we often want the *shortest* path between two vertices $u, v \\in G$; that is what this tutorial will focus on."
   ]
  },
  {
   "cell_type": "markdown",
   "id": "db78b8ca",
   "metadata": {
    "deletable": false,
    "editable": false,
    "nbgrader": {
     "cell_type": "markdown",
     "checksum": "f5566315eb7bcc3671c0c145084a03e8",
     "grade": false,
     "grade_id": "Q1-task",
     "locked": true,
     "points": 1,
     "schema_version": 3,
     "solution": false,
     "task": true
    }
   },
   "source": [
    "<font size=\"4\" >\n",
    "    \n",
    "## Q1\n",
    "\n",
    "We have seen how to use a depth-first search to find a path between vertices. If we instead use a breadth-first search, then the first path we find from $u$ to $v$ will be the shortest path, since breadth-first search always considers shortest paths earlier than longer ones.\n",
    "\n",
    "We will modify the iterative breadth-first traversal from the *Traversal and Search* notebook in the following ways:\n",
    "\n",
    "1. Start with an *ancestor list* `ancestor`, a list of length `len(G)`; initially set each entry to be `None`, apart from `ancestor[u] = -1`.\n",
    "2. Instead of checking whether a vertex has already been visited when you pop it from the queue, instead only add a vertex to the queue if it does not yet have an assigned ancestor (i.e. if `ancestor[v] is None`).\n",
    "3. Suppose your current vertex is $x$, and you are adding the vertex $y$ to the queue. Then set `ancestor[y]` to be `x`.\n",
    "4. If you find $v$ in the queue, trace back from $v$ to obtain a path from $v$ to $u$; return the reverse of theis path as your path from $u$ to $v$.\n",
    "\n",
    "For modification number 4: once you reach your \"target\" vertex $v$ during the breadth-first search, you can trace back the path you took to reach it using the list `ancestor`. In particular, you can get the path $v = w_0, w_1, w_2, w_3, \\ldots, w_i = u$, where $w_{k+1}$ is the ancestor of $w_k$ for all $0 \\leq k < i$. Then you need to reverse this path.\n",
    "\n",
    "\n",
    "Implement this modified breadth-first traversal as a function `shortest_path`. The input should be a graph $G$ and two vertices $u, v \\in G$, and the output should be a list representing the shortest path from $u$ to $v$, or `None` if there is no such path. As usual, assume that the vertices of $G$ are $\\{0, 1, \\ldots, n - 1\\}$.\n",
    "\n",
    "<p style='text-align:right;'> <b> [6 Marks] </b> </p>\n",
    "\n",
    "Five marks are available for a correct solution, and one mark for code quality."
   ]
  },
  {
   "cell_type": "code",
   "execution_count": 1,
   "id": "0b730c6c",
   "metadata": {
    "ExecuteTime": {
     "end_time": "2023-03-19T17:47:25.092762Z",
     "start_time": "2023-03-19T17:47:24.536792Z"
    },
    "nbgrader": {
     "cell_type": "code",
     "checksum": "5a819faacdb5725915bcd22f33786daa",
     "grade": false,
     "grade_id": "Q1-answer",
     "locked": false,
     "schema_version": 3,
     "solution": true,
     "task": false
    },
    "run_control": {
     "marked": true
    }
   },
   "outputs": [],
   "source": [
    "# YOUR CODE HERE\n",
    "# raise NotImplementedError()\n",
    "from collections import deque\n",
    "import networkx as nx\n",
    "import matplotlib.pyplot as plt\n",
    "import random\n",
    "\n",
    "\n",
    "def shortest_path(G, u, v):\n",
    "#     if not nx.is_connected(G):\n",
    "#         return None \n",
    "    \n",
    "    queue = deque()\n",
    "    queue.append(u)\n",
    "    \n",
    "    ancestor = [None] * len(G)\n",
    "    ancestor[u] = -1\n",
    "\n",
    "    # Start the BFS, pop the vertex\n",
    "    while queue:\n",
    "        # Get the first thing in the queue\n",
    "        current_vertex = queue.popleft()\n",
    "        \n",
    "        # Explore the vertex neighbour\n",
    "        # Haven't reach v \n",
    "        # Below Modify from depth_first_search(G, u, v) in lecture note\n",
    "        for neighbour in G[current_vertex]:\n",
    "            if ancestor[neighbour] is None:\n",
    "                # set ancestor[y] to be x\n",
    "                ancestor[neighbour] = current_vertex\n",
    "                # Add y to the queue\n",
    "                queue.append(neighbour)         \n",
    "\n",
    "        # If current vertex is v, track the path via the ancester\n",
    "        if current_vertex == v:\n",
    "            path = []\n",
    "            while current_vertex != u:\n",
    "                path.append(current_vertex)\n",
    "                # k+1 is the ancestor of k\n",
    "                current_vertex = ancestor[current_vertex]\n",
    "            path.append(u)\n",
    "            # reverse this path.\n",
    "            path.reverse()\n",
    "            return path\n",
    "                \n",
    "    return None \n",
    "\n",
    "\n",
    "# G = nx.from_graph6_bytes(b\"iCCO??????_CH?Q??????????????W?@w@???O???@G??\"\n",
    "#                          + b\"B??@???A??C??AI??@C?c??OA_?A???@_??_CO??_AC\"\n",
    "#                          + b\"???O?D_?C?@S?@D??G?@D??G?OK???@o???B????i?I\"\n",
    "#                          + b\"???I_?o????N_W\")\n",
    "\n",
    "# fig, ax = plt.subplots(figsize=(10, 10))\n",
    "# nx.draw_networkx(G, ax=ax, node_color=\"w\", edgecolors=\"k\")\n",
    "\n",
    "# print(f\"Path from 0 to 17 in F: {shortest_path(G, 0, 21)}\")"
   ]
  },
  {
   "cell_type": "code",
   "execution_count": 2,
   "id": "42b8691f",
   "metadata": {
    "ExecuteTime": {
     "end_time": "2023-03-19T17:47:25.097452Z",
     "start_time": "2023-03-19T17:47:25.094737Z"
    },
    "deletable": false,
    "editable": false,
    "nbgrader": {
     "cell_type": "code",
     "checksum": "8c0241518f089faeceaba48adf1e27f7",
     "grade": true,
     "grade_id": "Q1-tests",
     "locked": true,
     "points": 4,
     "schema_version": 3,
     "solution": false,
     "task": false
    }
   },
   "outputs": [],
   "source": [
    "if not \"shortest_path\" in globals():\n",
    "    raise NotImplementedError(\"shortest_path has not been defined\")\n"
   ]
  },
  {
   "cell_type": "markdown",
   "id": "ad4570a0",
   "metadata": {
    "deletable": false,
    "editable": false,
    "nbgrader": {
     "cell_type": "markdown",
     "checksum": "ecaaccdb2028784c276386b79e0d156a",
     "grade": false,
     "grade_id": "Q2-task",
     "locked": true,
     "points": 1,
     "schema_version": 3,
     "solution": false,
     "task": true
    }
   },
   "source": [
    "<font size=\"4\" >\n",
    "\n",
    "## Q2\n",
    "\n",
    "The *distance* between two vertices is the length of the shortest path between them ($\\infty$ if there is none); recall that the length of a path is equal to the number of vertices it contains minus one. The *diameter* of a graph is the largest distance between two vertices. There are polynomial-time algorithms for finding the diameter of a graph. If the graph is a *tree* $T$, then there is a particularly efficient method:\n",
    "    \n",
    "1. Start a normal breadth-first traversal from *any* vertex $u$. Return the last vertex $v$ in the queue which had not previously been seen. That is, the last *unseen* vertex which you pop from the queue.\n",
    "2. Do the same thing, but starting at $v$, to obtain a vertex $w$.\n",
    "3. The diameter of $T$ is the distance from $v$ to $w$, which you can obtain using `shortest_path`.\n",
    "    \n",
    "Write a function `tree_diameter` which takes a tree $T$ and uses the method above to return the diameter of $T$.\n",
    "    \n",
    "<p style='text-align:right;'> <b> [4 Marks] </b> </p>\n",
    "\n",
    "Three marks are available for a correct solution, and one mark for code quality.\n",
    "    \n",
    "If you want to test your code on more trees, you can access many at the [House of Graphs](https://houseofgraphs.org/search); set \"*Require a specific (numeric) value for an invariant*\" to \"*Number of components equal to 1*\" and \"*Only consider certain classes of graphs*\" to \"*Acyclic*\". You can get the *Graph6* encoding of the graph, open it in a text editor like Notepad or TextEdit, and use it as shown in the validation cell; note that it is `from_graph6_bytes(b\"...\")`."
   ]
  },
  {
   "cell_type": "code",
   "execution_count": 3,
   "id": "5e204dc7",
   "metadata": {
    "ExecuteTime": {
     "end_time": "2023-03-19T17:47:25.143027Z",
     "start_time": "2023-03-19T17:47:25.098875Z"
    },
    "nbgrader": {
     "cell_type": "code",
     "checksum": "f57dbcf4654c9f745c463a047d6ed7ce",
     "grade": false,
     "grade_id": "Q2-answer",
     "locked": false,
     "schema_version": 3,
     "solution": true,
     "task": false
    }
   },
   "outputs": [],
   "source": [
    "# YOUR CODE HERE\n",
    "# raise NotImplementedError()\n",
    "\n",
    "\n",
    "def breadth_first_traversal(G, u):\n",
    "    queue = deque()\n",
    "    queue.append(u)\n",
    "\n",
    "    seen = set()\n",
    "\n",
    "    while queue:\n",
    "        current_vertex = queue.popleft()\n",
    "\n",
    "        if current_vertex not in seen:\n",
    "            unseen = current_vertex\n",
    "            seen.add(current_vertex)\n",
    "            queue.extend(G[current_vertex])\n",
    "    # last unseen vertex pop from the queue.\n",
    "    return unseen\n",
    "\n",
    "def tree_diameter(G):\n",
    "    # Start BFS from any vertex\n",
    "    # u = random.randint(0,len(G))\n",
    "    u = 0 \n",
    "    v = breadth_first_traversal(G, u)\n",
    "\n",
    "    # Start BFS from v to find w\n",
    "    w = breadth_first_traversal(G, v)\n",
    "\n",
    "    # Compute diameter using shortest_path\n",
    "    path = shortest_path(G, v, w)\n",
    "    diameter = len(path) - 1\n",
    "\n",
    "    return diameter\n"
   ]
  },
  {
   "cell_type": "code",
   "execution_count": 4,
   "id": "e1274a83",
   "metadata": {
    "ExecuteTime": {
     "end_time": "2023-03-19T17:47:25.159985Z",
     "start_time": "2023-03-19T17:47:25.145067Z"
    },
    "deletable": false,
    "editable": false,
    "nbgrader": {
     "cell_type": "code",
     "checksum": "7339a052326049710277e9390cd07be2",
     "grade": true,
     "grade_id": "Q2-tests",
     "locked": true,
     "points": 4,
     "schema_version": 3,
     "solution": false,
     "task": false
    },
    "scrolled": true
   },
   "outputs": [
    {
     "name": "stdout",
     "output_type": "stream",
     "text": [
      "Diameter of T: 9\n"
     ]
    }
   ],
   "source": [
    "if not \"tree_diameter\" in globals():\n",
    "    raise NotImplementedError(\"tree_diameter has not been defined\")\n",
    "\n",
    "T = nx.from_graph6_bytes(b\"Y????????????????????????????w?F?o??o??GW?@?W?A?B?Q?K?`?\")\n",
    "print(f\"Diameter of T: {tree_diameter(T)}\")\n"
   ]
  },
  {
   "cell_type": "code",
   "execution_count": 2,
   "id": "043f886e",
   "metadata": {
    "ExecuteTime": {
     "end_time": "2023-03-22T20:27:51.867892Z",
     "start_time": "2023-03-22T20:27:51.860100Z"
    }
   },
   "outputs": [
    {
     "data": {
      "text/plain": [
       "132094.66242055356"
      ]
     },
     "execution_count": 2,
     "metadata": {},
     "output_type": "execute_result"
    }
   ],
   "source": [
    "import numpy as np\n",
    "np.exp(0.00016765-2.56*np.sqrt(0.00028))-1\n",
    "# 0.00016765-2.56*np.sqrt(0.00028)\n",
    "np.sqrt(10)*41772"
   ]
  },
  {
   "cell_type": "code",
   "execution_count": 5,
   "id": "a66c8499",
   "metadata": {
    "ExecuteTime": {
     "end_time": "2023-03-22T20:31:16.669585Z",
     "start_time": "2023-03-22T20:31:16.660775Z"
    }
   },
   "outputs": [
    {
     "data": {
      "text/plain": [
       "12522.27243380648"
      ]
     },
     "execution_count": 5,
     "metadata": {},
     "output_type": "execute_result"
    }
   ],
   "source": [
    "return_10 = np.exp(10*0.00016765-2.56*np.sqrt(10)*np.sqrt(0.00028))-1\n",
    "-return_10 * 100000"
   ]
  }
 ],
 "metadata": {
  "kernelspec": {
   "display_name": "Python 3 (ipykernel)",
   "language": "python",
   "name": "python3"
  },
  "language_info": {
   "codemirror_mode": {
    "name": "ipython",
    "version": 3
   },
   "file_extension": ".py",
   "mimetype": "text/x-python",
   "name": "python",
   "nbconvert_exporter": "python",
   "pygments_lexer": "ipython3",
   "version": "3.9.7"
  },
  "toc": {
   "base_numbering": 1,
   "nav_menu": {},
   "number_sections": false,
   "sideBar": true,
   "skip_h1_title": false,
   "title_cell": "Table of Contents",
   "title_sidebar": "Contents",
   "toc_cell": false,
   "toc_position": {},
   "toc_section_display": true,
   "toc_window_display": false
  },
  "varInspector": {
   "cols": {
    "lenName": 16,
    "lenType": 16,
    "lenVar": 40
   },
   "kernels_config": {
    "python": {
     "delete_cmd_postfix": "",
     "delete_cmd_prefix": "del ",
     "library": "var_list.py",
     "varRefreshCmd": "print(var_dic_list())"
    },
    "r": {
     "delete_cmd_postfix": ") ",
     "delete_cmd_prefix": "rm(",
     "library": "var_list.r",
     "varRefreshCmd": "cat(var_dic_list()) "
    }
   },
   "types_to_exclude": [
    "module",
    "function",
    "builtin_function_or_method",
    "instance",
    "_Feature"
   ],
   "window_display": false
  }
 },
 "nbformat": 4,
 "nbformat_minor": 5
}
