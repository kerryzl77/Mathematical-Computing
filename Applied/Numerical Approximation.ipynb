{
 "cells": [
  {
   "cell_type": "markdown",
   "id": "2d31b1ba",
   "metadata": {},
   "source": [
    "# MT3510: Applied Project - Team 12"
   ]
  },
  {
   "cell_type": "markdown",
   "id": "53fd2ee2",
   "metadata": {},
   "source": [
    "## Introduction"
   ]
  },
  {
   "cell_type": "markdown",
   "id": "3182f8ba",
   "metadata": {},
   "source": [
    "### The Problem"
   ]
  },
  {
   "cell_type": "markdown",
   "id": "6a276f9c",
   "metadata": {},
   "source": [
    "### The Method"
   ]
  },
  {
   "cell_type": "markdown",
   "id": "17337617",
   "metadata": {},
   "source": [
    "### Report Layout\n",
    "Parts are divided into their own sections containing the code, description of the implementation and results"
   ]
  },
  {
   "cell_type": "markdown",
   "id": "e5b1c065",
   "metadata": {},
   "source": [
    "### Code Imports"
   ]
  },
  {
   "cell_type": "code",
   "execution_count": 11,
   "id": "46a690db",
   "metadata": {
    "ExecuteTime": {
     "end_time": "2023-03-08T10:38:28.144474Z",
     "start_time": "2023-03-08T10:38:28.136324Z"
    }
   },
   "outputs": [],
   "source": [
    "# Standard imports\n",
    "import numpy as np\n",
    "import matplotlib.pyplot as plt\n",
    "%matplotlib inline\n",
    "\n",
    "# Imports for output formatting\n",
    "from IPython.display import Markdown as md\n",
    "from IPython.display import display\n",
    "\n",
    "#Part 2 Imports\n",
    "import sympy as sp\n",
    "from sympy.plotting import plot\n",
    "\n",
    "# Part 3 Imports\n",
    "from ipywidgets import interact,interactive, fixed\n",
    "\n",
    "#Part 4 Imports\n",
    "from time import process_time\n",
    "from scipy.interpolate import CubicSpline\n",
    "import bisect"
   ]
  },
  {
   "cell_type": "markdown",
   "id": "8ddd6ca9",
   "metadata": {},
   "source": [
    "## Part 1"
   ]
  },
  {
   "cell_type": "code",
   "execution_count": 12,
   "id": "604c3607",
   "metadata": {
    "ExecuteTime": {
     "end_time": "2023-03-08T10:38:28.784137Z",
     "start_time": "2023-03-08T10:38:28.771502Z"
    }
   },
   "outputs": [],
   "source": [
    "#Part 1 Function creation in this cell\n",
    "\n",
    "#Modelled from MT3510 Lecture Notes (Chapter 3: Interpolation Part 3)\n",
    "def piecewiseLagrange(degree,knots,evalPoints):\n",
    "    M = int(knots.size/2)\n",
    "    N = evalPoints.size\n",
    "    x0 = knots[0]\n",
    "    y0 = knots[1]\n",
    "    \n",
    "    #---Calculate Interpolants---\n",
    "    Nint = M - degree #M - degree interpolants to obtain\n",
    "    pts = np.arange(degree+1) + np.arange(Nint).reshape(Nint,1) #get required set of points\n",
    "    \n",
    "    a = np.zeros((degree+1,Nint)) #creates array to store coefficients\n",
    "    \n",
    "    #Loops over possible interpolants, finding coefficients by solving Vandermode matrix\n",
    "    for i in range(Nint): \n",
    "        A = np.vander(x0[pts[i,:]])\n",
    "        a[:,i] = np.linalg.solve(A,y0[pts[i,:]])\n",
    "    \n",
    "    #---Choose which interpolants to use (assuming uneven spacing)---\n",
    "    y = np.empty_like(evalPoints)     # set up new data points\n",
    "    pows = degree-np.arange(degree+1)\n",
    "\n",
    "    for i in range(N):# loop over new evaluation points\n",
    "        if((evalPoints[i]<x0).all()): # if we're outside of the interval, set k to extrapolate\n",
    "            k = 0\n",
    "        elif((evalPoints[i]>x0).all()):\n",
    "            k = M-1\n",
    "            \n",
    "        else:# find k for x_i, accounting for the possibility that x_i=x_k\n",
    "            k = np.where(((evalPoints[i]<x0[1:]) & (evalPoints[i]>=x0[:-1])) | \n",
    "                         ((x0[1:]==evalPoints[i]) & (evalPoints[i]>x0[:-1])))[0][0]\n",
    "\n",
    "        # account for j being at the edge\n",
    "        j = k - degree//2    \n",
    "        j = max(0,j)\n",
    "        j = min(j,Nint-1)\n",
    "\n",
    "        y[i] = np.sum(a[:,j]*evalPoints[i]**pows)  # obtain new data point\n",
    "\n",
    "    return y"
   ]
  },
  {
   "cell_type": "code",
   "execution_count": 13,
   "id": "1ce65cbc",
   "metadata": {
    "ExecuteTime": {
     "end_time": "2023-03-08T10:38:29.464094Z",
     "start_time": "2023-03-08T10:38:29.261344Z"
    },
    "scrolled": false
   },
   "outputs": [
    {
     "data": {
      "image/png": "[encoded data removed]",
      "text/plain": [
       "<Figure size 432x288 with 1 Axes>"
      ]
     },
     "metadata": {
      "needs_background": "light"
     },
     "output_type": "display_data"
    }
   ],
   "source": [
    "# Part 1 Function Testing in this cell\n",
    "def f(x):\n",
    "    return np.exp(x)*np.cos(10*x)\n",
    "\n",
    "N = 10\n",
    "r0 = np.linspace(0,1/6,N)\n",
    "\n",
    "x1 = 1/(1-r0) # coordinate transformation to test uneven spacing\n",
    "y1 = f(x1)\n",
    "\n",
    "knots = np.array([x1,y1])\n",
    "degree = 4\n",
    "evalPoints = np.linspace(x1[0],x1[-1],40) # knots range (1,1.2)\n",
    "interpolant = piecewiseLagrange(degree,knots,evalPoints)\n",
    "\n",
    "plt.plot(evalPoints,f(evalPoints),label = 'exact function')\n",
    "plt.plot(evalPoints,interpolant,label='interpolant')\n",
    "plt.plot(x1,y1,'kx',mew=2,label='data')\n",
    "plt.title('Exact Function Plotted Against Interpolant')\n",
    "plt.legend()\n",
    "plt.show()"
   ]
  },
  {
   "cell_type": "markdown",
   "id": "643fea51",
   "metadata": {},
   "source": [
    "## Part 2"
   ]
  },
  {
   "cell_type": "markdown",
   "id": "e2dc4007",
   "metadata": {},
   "source": [
    "### Introduction\n",
    "The code iterates over a range of polynomial degrees and values of N or h, computes the maximum error for each combination, and plot the error- vs -$h^{n}$ for each degree of polynomial. \n",
    "\n",
    "We are also able to check the rate of convergence from the error data. This allows us to understand how the accuracy of the interpolation changes as we vary the degree of the polynomial and the number of data points, hence decide on the appropriate ones. \n"
   ]
  },
  {
   "cell_type": "markdown",
   "id": "573711e0",
   "metadata": {},
   "source": [
    "### Method \n",
    "In this project we used piecewise Lagrange interpolation. Compared with (Piecewise) Linear interpolation, high order polynomials improve the accuracy of the approximation. Compared with general polynomial interpolation, piecewise method minimize the detrimental effect of increasing derivatives (which will be discussed in 7.1). A better method as we discussed in the lecture is Cubic Spline interpolation which has better smoothness (as it is continious to second derivative) and reduce overfitting. Other method include, rational function method, which involves approximating a function using a ratio of two polynomials."
   ]
  },
  {
   "attachments": {},
   "cell_type": "markdown",
   "id": "326eda58",
   "metadata": {},
   "source": [
    "### Implementation\n",
    "#### Tune the choice of Evaluation Points N\n",
    "When N is small, which means that h is large, there's large volotility in the error trend. So we choose the a realtively large N = 1000 to ensure a smooth trend. \n",
    "***\n",
    "`N_eval = 1000\n",
    "evalPoints = np.linspace(x_start, x_end, N_eval)`\n",
    "***\n",
    "\n"
   ]
  },
  {
   "cell_type": "markdown",
   "id": "199747bb",
   "metadata": {},
   "source": [
    "#### Loop over Degree & Interval\n",
    "\n",
    "Create an empty 2D array max_error to store the maximum error for each degree of polynomial and N or h.\n",
    "***\n",
    "`max_error = np.zeros((len(deg_range), len(N_range)))`\n",
    "***\n",
    "\n",
    "We use a nested loop to calculate the maximum error for each degree of polynomial and h. The outer loop iterates over the range of degrees of polynomial tested, while the inner loop iterates over the range of h. For each combination of degree of polynomial and h, the code constructs a set of knots using evenly spaced data, interpolates the function using piecewise Lagrange method, and computes the maximum error between the interpolated function and the true function over a set of evaluation points.\n",
    "\n",
    "***\n",
    "`for i, deg in enumerate(deg_range):\n",
    "    for j, h in enumerate(h_range):\n",
    "        ...`\n",
    "***"
   ]
  },
  {
   "cell_type": "markdown",
   "id": "2e6ccfd5",
   "metadata": {},
   "source": [
    "#### Code"
   ]
  },
  {
   "cell_type": "code",
   "execution_count": 14,
   "id": "55e384fe",
   "metadata": {
    "ExecuteTime": {
     "end_time": "2023-03-08T10:38:51.317628Z",
     "start_time": "2023-03-08T10:38:46.227986Z"
    },
    "run_control": {
     "marked": true
    }
   },
   "outputs": [
    {
     "data": {
      "image/png": "[encoded data removed]",
      "text/plain": [
       "<Figure size 576x432 with 1 Axes>"
      ]
     },
     "metadata": {
      "needs_background": "light"
     },
     "output_type": "display_data"
    }
   ],
   "source": [
    "#Part 1 Function creation in this cell\n",
    "\n",
    "# Define the subinterval and evaluation points\n",
    "x_start = 1\n",
    "x_end = 2.8\n",
    "N_eval = 1000\n",
    "evalPoints = np.linspace(x_start, x_end, N_eval)\n",
    "y1 = f(evalPoints)\n",
    "\n",
    "# Degrees of polynomial \n",
    "deg_range = range(2, 6)\n",
    "\n",
    "# Range of  of N or h\n",
    "N_range = np.linspace(10, 300, 40)\n",
    "h_range = (x_end - x_start) / (N_range - 1)\n",
    "\n",
    "# Maximum error \n",
    "max_error = np.zeros((len(deg_range), len(N_range)))\n",
    "\n",
    "# Calculate the maximum error for each degree of polynomial and N or h\n",
    "for i, deg in enumerate(deg_range):\n",
    "    for j, h in enumerate(h_range):\n",
    "        N = int((x_end - x_start) / h) + 1\n",
    "        x0 = np.linspace(x_start, x_end, N)\n",
    "        y0 = f(x0)\n",
    "        knots = np.array([x0,y0])\n",
    "        y_interp = piecewiseLagrange(deg, knots, evalPoints)\n",
    "        max_error[i, j] = np.max(np.abs(y1 - y_interp))\n",
    "\n",
    "# Plot the error vs. h for each degree of polynomial\n",
    "plt.figure(figsize=(8, 6))\n",
    "for i, deg in enumerate(deg_range):\n",
    "    plt.loglog(h_range, max_error[i], label=f'Degree {deg}')\n",
    "plt.xlabel('h')\n",
    "plt.ylabel('Maximum error')\n",
    "plt.legend()\n",
    "plt.show()"
   ]
  },
  {
   "cell_type": "code",
   "execution_count": 15,
   "id": "4a464f99",
   "metadata": {
    "ExecuteTime": {
     "end_time": "2023-03-08T10:38:55.257252Z",
     "start_time": "2023-03-08T10:38:53.583679Z"
    }
   },
   "outputs": [
    {
     "data": {
      "image/png": "[encoded data removed]",
      "text/plain": [
       "<Figure size 720x432 with 4 Axes>"
      ]
     },
     "metadata": {
      "needs_background": "light"
     },
     "output_type": "display_data"
    }
   ],
   "source": [
    "# Plot the maximum error againt h, h^2 and h^3 to ensure we have the predicted trend \n",
    "fig, axs = plt.subplots(2, 2, figsize=(10, 6))\n",
    "\n",
    "\n",
    "# Define the degrees of polynomial and corresponding colors for plotting\n",
    "degrees = [2, 3, 4, 5]\n",
    "colors = ['orange', 'green', 'red','blue']\n",
    "\n",
    "# Loop over the degrees of polynomial and plot the subplots\n",
    "for i, deg in enumerate(degrees):\n",
    "    row = i // 2  # Determine the subplot row position \n",
    "    col = i % 2   # Determine the subplot column position\n",
    "    ax = axs[row, col]\n",
    "    ax.loglog(h_range, max_error[i], '.', color=colors[3])\n",
    "    ax.loglog(h_range, 0.01*max_error[i], '--', label='$h$', color=colors[0])\n",
    "    ax.loglog(h_range, 0.1*max_error[i]**2, '--', label='$h^2$', color=colors[1])\n",
    "    ax.loglog(h_range, max_error[i]**3, '--', label='$h^3$', color=colors[2])\n",
    "    ax.set_xlabel('h')\n",
    "    ax.set_ylabel('error')\n",
    "    ax.legend()\n",
    "\n",
    "plt.show()\n"
   ]
  },
  {
   "cell_type": "markdown",
   "id": "d4cc3f70",
   "metadata": {},
   "source": [
    "### Results"
   ]
  },
  {
   "cell_type": "markdown",
   "id": "82e79dfd",
   "metadata": {},
   "source": [
    "#### Description\n",
    "\n",
    "The maximum error on a log-log plot fit in our expectation\n",
    "\n",
    "As the number of points N used for interpolation increases, h decreases, leading to a higher accuracy (decrease of error) of the interpolation, which is also known as convergence of the method. \n",
    "\n",
    "Also, assuming the size of derivative is small, as the order of polynomial increases, the interpolation function fit the original function more accurately.\n",
    "\n",
    "The slope of Degree 5 Polynomial is 5.3004 which is close to the expected convergence rate of 5 (degree of polynomial). "
   ]
  },
  {
   "cell_type": "code",
   "execution_count": 16,
   "id": "7a46b1b7",
   "metadata": {
    "ExecuteTime": {
     "end_time": "2023-03-08T10:39:02.760782Z",
     "start_time": "2023-03-08T10:39:02.752206Z"
    }
   },
   "outputs": [
    {
     "name": "stdout",
     "output_type": "stream",
     "text": [
      "Degree 2: slope = 3.0100\n",
      "Degree 3: slope = 3.7838\n",
      "Degree 4: slope = 5.1519\n",
      "Degree 5: slope = 5.3004\n"
     ]
    }
   ],
   "source": [
    "# Calculate the slope of the log-log plot for each degree of polynomial\n",
    "for i, deg in enumerate(deg_range):\n",
    "    # Select the range of data points to fit\n",
    "    fit_range = range(5, len(h_range))\n",
    "    # Fit a line to the data points in log-log scale\n",
    "    coeffs = np.polyfit(np.log(h_range[fit_range]), np.log(max_error[i, fit_range]), 1)\n",
    "    slope = coeffs[0]\n",
    "    print(f'Degree {deg}: slope = {slope:.4f}')"
   ]
  },
  {
   "cell_type": "markdown",
   "id": "215cf4ad",
   "metadata": {},
   "source": [
    "#### Discussion \n",
    "##### Detrimental effect of higher order polynomial\n",
    "\n",
    "We make the assumption that the derivative is small when fitting with higher order polynomial, which may not be the case here, as the derivative grows dramtically after the fourth derivative. Fitting with higher order polynomial can lead to oscillations and overfitting, especially near the edges of the interpolation interval, as shown from the trend of Deg 5 Polynomial."
   ]
  },
  {
   "cell_type": "markdown",
   "id": "1cdf1a1d",
   "metadata": {},
   "source": [
    "## Part 3"
   ]
  },
  {
   "cell_type": "markdown",
   "id": "b66d4ace",
   "metadata": {},
   "source": [
    "### Introduction\n",
    "In part three, an interactive plot was produced to make it easy to see how the interpolated function fits to the same knots for different degrees of Lagrange Polynomial. The values of the knots for this task were arbitray as its aim was to show pictorially how good the fit of polynomial was for different degrees . Hence, to make coding more simple, it was chosen to have evenly spaced knots. To make the plot interactive it was decided to use the interactive widget with a pre-stated plotting function and then introduce a slider. This had the advantage that it was easy to add another silder into the function if investigating the change in another variable was desirable."
   ]
  },
  {
   "cell_type": "markdown",
   "id": "596b6bf5",
   "metadata": {},
   "source": [
    "### Implementation \n",
    "The plotting function created calculated the x knots and f(x knots) as well as using array broadcast to find the y values of interpolated function evaluated at a set of x points. The function took five variables, the lowest and highest values of the interval wanting to investigate, the degree of polynomial, the number of knots desired and the number of evaluation points desired. The code for this section could be loosely based on an example in the lecture notes Chapter Three part 2. Within the plotting function, subplots were then created, the first showed the knots joined together by straight lines. The graph was shown on a fixed axis scale to make it easier for the viewer to visualise the changing polynomial relative to the knotted function. On the same subplot, a lagrange polynomial of a degree to be specified by a slider was shown. A second subplot showing the error in the lagrange polynomial compared to the exact function f(x) was added, allowing the viewer to observe an increase or derease in accuracy with increased degree."
   ]
  },
  {
   "cell_type": "markdown",
   "id": "ef9a198d",
   "metadata": {},
   "source": [
    "### Code"
   ]
  },
  {
   "cell_type": "code",
   "execution_count": 8,
   "id": "9e23ef0e",
   "metadata": {
    "ExecuteTime": {
     "end_time": "2023-03-08T10:29:30.267407Z",
     "start_time": "2023-03-08T10:29:30.259242Z"
    }
   },
   "outputs": [],
   "source": [
    "# Defining function to plot graphs showing interpolated function and knots \n",
    "# as well as error in interpolated function\n",
    "def plotting(low, high, Degree, Nknot, Neval):\n",
    "\n",
    "    x_knots = np.linspace(low, high, Nknot)  #Setting arbitary knots in specifed function range\n",
    "    y_knots = f(x_knots)  #Finding f(x) using x knots\n",
    "    \n",
    "    \n",
    "    # Finding the points over which want to interpolate, MM is number of points will need for interpolation\n",
    "    MM = Degree+1\n",
    "    start = int((Nknot-MM)/2)        # Ensuring points in interpolation are near centre of knots\n",
    "    pts = np.arange(start,start+MM)\n",
    "\n",
    "                   \n",
    "    A = np.vander(x_knots[pts[:]])          # constructing the Vandermode matrix\n",
    "    a = np.linalg.solve(A,y_knots[pts[:]])  # obtain the coefficients by solving the system\n",
    "\n",
    "    pows = (Degree-np.arange(MM)).reshape(MM,1)         # these are the exponents required\n",
    "\n",
    "    x = np.linspace(low,high, Neval)   # x evaluation points\n",
    "\n",
    "    # Finding the interpolated y values\n",
    "    xnew = np.reshape(x,(1,Neval))                         # reshape for the broadcast\n",
    "    ynew = np.sum((xnew**pows)*a.reshape(MM,1),axis=0) # multiply by coefficients and sum along the right direction\n",
    "    \n",
    "    \n",
    "    # Plotting the knots and interpolated function\n",
    "    fig, (ax1, ax2) = plt.subplots(2, figsize = (8,6))\n",
    "    fig.tight_layout(h_pad=4)\n",
    "    ax1.set_ylim(-7, 10)     # Ensuring axis stay constant\n",
    "    \n",
    "    # plot connection between knots in red\n",
    "    ax1.plot(x_knots, y_knots, color=\"red\", label=\"f(x) showing knots joined together\")\n",
    "    ax1.plot(x_knots, y_knots,'kx',mew=2,label='knots')\n",
    "\n",
    "    # plot interpolated function as dashed blue line\n",
    "    ax1.plot(x, ynew, color=\"b\", linestyle='--', linewidth=3, label=\"Interpolated function\")\n",
    "\n",
    "    # Labels\n",
    "    ax1.legend()\n",
    "    ax1.set_title(\"Comparison of joined knots and interpolated data\");\n",
    "    ax1.set_xlabel(\"x\")\n",
    "    ax1.set_ylabel(\"y\")\n",
    "    \n",
    "    # Plotting second plot showing error in green\n",
    "    ax2.plot(x, np.abs(f(x)-ynew), color=\"g\", linewidth=2, label=\"Error in interpolated polynomial\")\n",
    "    \n",
    "    # Labels\n",
    "    ax2.set_title(\"Plot showing error in interpolated polynomial $|f(x)-p_{degree}(x)|$ at evaluation points x\");\n",
    "    ax2.set_xlabel(\"x\")\n",
    "    ax2.set_ylabel(\"y\")"
   ]
  },
  {
   "cell_type": "markdown",
   "id": "cd99974b",
   "metadata": {},
   "source": [
    "In the cell below, an interactive plot of the given function $f(x)=e^xcos(10x)$ on 11 knots is coded."
   ]
  },
  {
   "cell_type": "code",
   "execution_count": 9,
   "id": "5ec0d4fe",
   "metadata": {
    "ExecuteTime": {
     "end_time": "2023-03-08T10:29:30.645932Z",
     "start_time": "2023-03-08T10:29:30.269014Z"
    }
   },
   "outputs": [
    {
     "data": {
      "application/vnd.jupyter.widget-view+json": {
       "model_id": "c3d03cf6df8b4beab6b2bd482e333d41",
       "version_major": 2,
       "version_minor": 0
      },
      "text/plain": [
       "interactive(children=(IntSlider(value=5, description='Degree', max=10, min=1), Output()), _dom_classes=('widge…"
      ]
     },
     "metadata": {},
     "output_type": "display_data"
    }
   ],
   "source": [
    "# Specifying number of knots to ensure slider on correct interval\n",
    "number_of_knots = 11\n",
    "\n",
    "# Making plots interactive for the degree variable\n",
    "interactive(plotting,\n",
    "            low = fixed(1),\n",
    "            high = fixed(2),\n",
    "            Nknot = fixed(number_of_knots),\n",
    "            Degree = (1,(number_of_knots-1)),\n",
    "            Neval = fixed(30))"
   ]
  },
  {
   "cell_type": "markdown",
   "id": "114c20ec",
   "metadata": {},
   "source": [
    "### Results Discussion"
   ]
  },
  {
   "cell_type": "markdown",
   "id": "1efb3f9b",
   "metadata": {},
   "source": [
    "It can be seen from the resultant plots for the function $f(x)=e^xcos(10x)$ on 11 knots, that as the degree of polynomial increases, so to does the blue line of the polynomial fit appear to follow the red line joining the knots. If we then look to the error plot, this trend can be seen by the decrease in error with increasing polynomial degree meaning that the fit is more like the function f(x) we expect to see. It should be noted that though the error decreases with increased polynomial degree, once we get to degree 10 where all knots are included in the function, the error is pushed out towards the edges in an effect called Runge's Phenomenon. To overcome this error on the outer reaches of the fit, piecewise interpolation is used, where many smaller degree of polynomials are fitted together to create one large and more accurate approximation to the function."
   ]
  },
  {
   "cell_type": "markdown",
   "id": "35333685",
   "metadata": {},
   "source": [
    "## Part 4"
   ]
  },
  {
   "cell_type": "code",
   "execution_count": 10,
   "id": "73767536",
   "metadata": {
    "ExecuteTime": {
     "end_time": "2023-03-08T10:29:30.768666Z",
     "start_time": "2023-03-08T10:29:30.649274Z"
    }
   },
   "outputs": [
    {
     "ename": "OSError",
     "evalue": "wave_data1.txt not found.",
     "output_type": "error",
     "traceback": [
      "\u001b[0;31m---------------------------------------------------------------------------\u001b[0m",
      "\u001b[0;31mOSError\u001b[0m                                   Traceback (most recent call last)",
      "\u001b[0;32m/tmp/ipykernel_527/2798833137.py\u001b[0m in \u001b[0;36m<module>\u001b[0;34m\u001b[0m\n\u001b[1;32m      1\u001b[0m \u001b[0;31m# import data\u001b[0m\u001b[0;34m\u001b[0m\u001b[0;34m\u001b[0m\u001b[0m\n\u001b[1;32m      2\u001b[0m \u001b[0;34m\u001b[0m\u001b[0m\n\u001b[0;32m----> 3\u001b[0;31m \u001b[0mdata\u001b[0m \u001b[0;34m=\u001b[0m \u001b[0mnp\u001b[0m\u001b[0;34m.\u001b[0m\u001b[0mloadtxt\u001b[0m\u001b[0;34m(\u001b[0m\u001b[0;34m\"wave_data1.txt\"\u001b[0m\u001b[0;34m)\u001b[0m\u001b[0;34m\u001b[0m\u001b[0;34m\u001b[0m\u001b[0m\n\u001b[0m\u001b[1;32m      4\u001b[0m \u001b[0;34m[\u001b[0m\u001b[0mtimes\u001b[0m\u001b[0;34m,\u001b[0m \u001b[0melev\u001b[0m\u001b[0;34m]\u001b[0m \u001b[0;34m=\u001b[0m \u001b[0mdata\u001b[0m\u001b[0;34m\u001b[0m\u001b[0;34m\u001b[0m\u001b[0m\n",
      "\u001b[0;32m/opt/conda/lib/python3.9/site-packages/numpy/lib/npyio.py\u001b[0m in \u001b[0;36mloadtxt\u001b[0;34m(fname, dtype, comments, delimiter, converters, skiprows, usecols, unpack, ndmin, encoding, max_rows, like)\u001b[0m\n\u001b[1;32m   1063\u001b[0m             \u001b[0mfname\u001b[0m \u001b[0;34m=\u001b[0m \u001b[0mos_fspath\u001b[0m\u001b[0;34m(\u001b[0m\u001b[0mfname\u001b[0m\u001b[0;34m)\u001b[0m\u001b[0;34m\u001b[0m\u001b[0;34m\u001b[0m\u001b[0m\n\u001b[1;32m   1064\u001b[0m         \u001b[0;32mif\u001b[0m \u001b[0m_is_string_like\u001b[0m\u001b[0;34m(\u001b[0m\u001b[0mfname\u001b[0m\u001b[0;34m)\u001b[0m\u001b[0;34m:\u001b[0m\u001b[0;34m\u001b[0m\u001b[0;34m\u001b[0m\u001b[0m\n\u001b[0;32m-> 1065\u001b[0;31m             \u001b[0mfh\u001b[0m \u001b[0;34m=\u001b[0m \u001b[0mnp\u001b[0m\u001b[0;34m.\u001b[0m\u001b[0mlib\u001b[0m\u001b[0;34m.\u001b[0m\u001b[0m_datasource\u001b[0m\u001b[0;34m.\u001b[0m\u001b[0mopen\u001b[0m\u001b[0;34m(\u001b[0m\u001b[0mfname\u001b[0m\u001b[0;34m,\u001b[0m \u001b[0;34m'rt'\u001b[0m\u001b[0;34m,\u001b[0m \u001b[0mencoding\u001b[0m\u001b[0;34m=\u001b[0m\u001b[0mencoding\u001b[0m\u001b[0;34m)\u001b[0m\u001b[0;34m\u001b[0m\u001b[0;34m\u001b[0m\u001b[0m\n\u001b[0m\u001b[1;32m   1066\u001b[0m             \u001b[0mfencoding\u001b[0m \u001b[0;34m=\u001b[0m \u001b[0mgetattr\u001b[0m\u001b[0;34m(\u001b[0m\u001b[0mfh\u001b[0m\u001b[0;34m,\u001b[0m \u001b[0;34m'encoding'\u001b[0m\u001b[0;34m,\u001b[0m \u001b[0;34m'latin1'\u001b[0m\u001b[0;34m)\u001b[0m\u001b[0;34m\u001b[0m\u001b[0;34m\u001b[0m\u001b[0m\n\u001b[1;32m   1067\u001b[0m             \u001b[0mfh\u001b[0m \u001b[0;34m=\u001b[0m \u001b[0miter\u001b[0m\u001b[0;34m(\u001b[0m\u001b[0mfh\u001b[0m\u001b[0;34m)\u001b[0m\u001b[0;34m\u001b[0m\u001b[0;34m\u001b[0m\u001b[0m\n",
      "\u001b[0;32m/opt/conda/lib/python3.9/site-packages/numpy/lib/_datasource.py\u001b[0m in \u001b[0;36mopen\u001b[0;34m(path, mode, destpath, encoding, newline)\u001b[0m\n\u001b[1;32m    192\u001b[0m \u001b[0;34m\u001b[0m\u001b[0m\n\u001b[1;32m    193\u001b[0m     \u001b[0mds\u001b[0m \u001b[0;34m=\u001b[0m \u001b[0mDataSource\u001b[0m\u001b[0;34m(\u001b[0m\u001b[0mdestpath\u001b[0m\u001b[0;34m)\u001b[0m\u001b[0;34m\u001b[0m\u001b[0;34m\u001b[0m\u001b[0m\n\u001b[0;32m--> 194\u001b[0;31m     \u001b[0;32mreturn\u001b[0m \u001b[0mds\u001b[0m\u001b[0;34m.\u001b[0m\u001b[0mopen\u001b[0m\u001b[0;34m(\u001b[0m\u001b[0mpath\u001b[0m\u001b[0;34m,\u001b[0m \u001b[0mmode\u001b[0m\u001b[0;34m,\u001b[0m \u001b[0mencoding\u001b[0m\u001b[0;34m=\u001b[0m\u001b[0mencoding\u001b[0m\u001b[0;34m,\u001b[0m \u001b[0mnewline\u001b[0m\u001b[0;34m=\u001b[0m\u001b[0mnewline\u001b[0m\u001b[0;34m)\u001b[0m\u001b[0;34m\u001b[0m\u001b[0;34m\u001b[0m\u001b[0m\n\u001b[0m\u001b[1;32m    195\u001b[0m \u001b[0;34m\u001b[0m\u001b[0m\n\u001b[1;32m    196\u001b[0m \u001b[0;34m\u001b[0m\u001b[0m\n",
      "\u001b[0;32m/opt/conda/lib/python3.9/site-packages/numpy/lib/_datasource.py\u001b[0m in \u001b[0;36mopen\u001b[0;34m(self, path, mode, encoding, newline)\u001b[0m\n\u001b[1;32m    529\u001b[0m                                       encoding=encoding, newline=newline)\n\u001b[1;32m    530\u001b[0m         \u001b[0;32melse\u001b[0m\u001b[0;34m:\u001b[0m\u001b[0;34m\u001b[0m\u001b[0;34m\u001b[0m\u001b[0m\n\u001b[0;32m--> 531\u001b[0;31m             \u001b[0;32mraise\u001b[0m \u001b[0mIOError\u001b[0m\u001b[0;34m(\u001b[0m\u001b[0;34m\"%s not found.\"\u001b[0m \u001b[0;34m%\u001b[0m \u001b[0mpath\u001b[0m\u001b[0;34m)\u001b[0m\u001b[0;34m\u001b[0m\u001b[0;34m\u001b[0m\u001b[0m\n\u001b[0m\u001b[1;32m    532\u001b[0m \u001b[0;34m\u001b[0m\u001b[0m\n\u001b[1;32m    533\u001b[0m \u001b[0;34m\u001b[0m\u001b[0m\n",
      "\u001b[0;31mOSError\u001b[0m: wave_data1.txt not found."
     ]
    }
   ],
   "source": [
    "# import data\n",
    "\n",
    "data = np.loadtxt(\"wave_data1.txt\")\n",
    "[times, elev] = data"
   ]
  },
  {
   "cell_type": "markdown",
   "id": "2d082f70",
   "metadata": {
    "heading_collapsed": true
   },
   "source": [
    "### Part 4.1\n",
    "*How many data points appear to be missing?*"
   ]
  },
  {
   "cell_type": "markdown",
   "id": "f0e04350",
   "metadata": {
    "heading_collapsed": true,
    "hidden": true
   },
   "source": [
    "#### Code"
   ]
  },
  {
   "cell_type": "code",
   "execution_count": null,
   "id": "a8bf1f8f",
   "metadata": {
    "ExecuteTime": {
     "end_time": "2023-03-08T10:29:30.771398Z",
     "start_time": "2023-03-08T10:29:30.771382Z"
    },
    "hidden": true
   },
   "outputs": [],
   "source": [
    "# First find missing points\n",
    "\n",
    "# We see that the times recorded are t in [0.1,30] in steps of 0.1\n",
    "\n",
    "comtime = np.arange(0.1,30.1,0.1) # Create an array of the complete times\n",
    "\n",
    "# Use sets to efficiently find the data points missing. \n",
    "# Need to round arrays to one decimal place for this to work\n",
    "\n",
    "set_time = set(times.round(1))\n",
    "set_comtime = set(comtime.round(1))\n",
    "\n",
    "missingSet = set_comtime - set_time  # Find elements missing from time set\n",
    "\n",
    "missingArr =  np.array(list(missingSet)) # convert to np.array \n",
    "missing = missingArr[np.argsort(missingArr)] # order the missing points\n",
    "\n",
    "display(md(\"We are missing {} data points at times {} s.\".format(len(missing), list(missing))))"
   ]
  },
  {
   "cell_type": "markdown",
   "id": "eb6b513e",
   "metadata": {
    "heading_collapsed": true,
    "hidden": true
   },
   "source": [
    "#### Implementation"
   ]
  },
  {
   "cell_type": "markdown",
   "id": "b893d3f6",
   "metadata": {
    "hidden": true
   },
   "source": [
    "Explaining the use of sets:\n",
    "\n",
    "We improve efficiency by using sets instead of for loops and arrays to calculate the missing elements in the array times. Using sets also simplifies our code, making it easier to understand and less prone to errors.\n",
    "\n",
    "If we used for loops and arrays, we would need to iterate through each element in both arrays to compare them. This would result in a time complexity of $O(n^2)$, where n is the number of elements in the arrays. Instead we coverted the arrays into sets and subtracted one from another. This operation has a time complexity of $O(n)$. Hence improving efficiency."
   ]
  },
  {
   "cell_type": "markdown",
   "id": "5560a387",
   "metadata": {},
   "source": [
    "### Part 4.2\n",
    "*Use your interpolation function from part 1 to obtain a new uniformly sampled data set on 0.01s \n",
    "subintervals for the first 20s using piecewise cubic polynomials. Plot the new data alongside \n",
    "the equivalent data obtained using scipy.interpolate.CubicSpline*"
   ]
  },
  {
   "cell_type": "markdown",
   "id": "6ec9bb60",
   "metadata": {},
   "source": [
    "#### Code"
   ]
  },
  {
   "cell_type": "code",
   "execution_count": null,
   "id": "05636c50",
   "metadata": {
    "ExecuteTime": {
     "end_time": "2023-03-08T10:29:30.772400Z",
     "start_time": "2023-03-08T10:29:30.772385Z"
    }
   },
   "outputs": [],
   "source": [
    "s_time = np.arange(0.01,20.01,0.01) # Create array of times in [0.01,20]s at 0.01s intervals\n",
    "\n",
    "# Interpolate using scipy\n",
    "\n",
    "cs = CubicSpline(times, elev, bc_type = 'natural')\n",
    "ySpline = cs(s_time)\n",
    "\n",
    "# Using piecewiseLagrange \n",
    "\n",
    "degree = 3\n",
    "PWL = piecewiseLagrange(degree,data,s_time)\n",
    "\n",
    "# Plotting\n",
    "\n",
    "fig = plt.subplots(figsize=(6,5))\n",
    "\n",
    "plt.plot(s_time,PWL,label = 'PWL', lw=1)\n",
    "plt.plot(s_time,ySpline,label='scipy CubicSpline',lw=1)\n",
    "\n",
    "plt.title(r\"\"\"Fig 4.2. Comparing piecewiseLagrange with scipy.interpolate.CubicSpline for the first 20s of wave data\"\"\") \n",
    "plt.xlabel(\"Time (s)\")\n",
    "plt.ylabel(\"Elevation (m)\")\n",
    "\n",
    "plt.grid()\n",
    "plt.tight_layout()\n",
    "plt.legend()\n",
    "plt.show()"
   ]
  },
  {
   "cell_type": "markdown",
   "id": "931720d4",
   "metadata": {},
   "source": [
    "### Part 4.3\n",
    "*Plot the difference between the piecewise cubic interpolation \n",
    "and the cubic spline interpolation obtained using scipy.interpolate.CubicSpline*"
   ]
  },
  {
   "cell_type": "markdown",
   "id": "386a8c3a",
   "metadata": {},
   "source": [
    "#### Code"
   ]
  },
  {
   "cell_type": "code",
   "execution_count": null,
   "id": "07ff5384",
   "metadata": {
    "ExecuteTime": {
     "end_time": "2023-03-08T10:29:30.773456Z",
     "start_time": "2023-03-08T10:29:30.773440Z"
    }
   },
   "outputs": [],
   "source": [
    "# Calculating the difference/'error' between our method and CubicSpline\n",
    "\n",
    "errors = abs(PWL-ySpline) \n",
    "\n",
    "fig = plt.subplots(figsize=(5,4))\n",
    "\n",
    "plt.plot(s_time,errors,lw=1)\n",
    "\n",
    "plt.title(\"Fig 4.2. The error |PWL(x) - CubicSpline(x)| for the first 20s of wave data\") \n",
    "plt.xlabel(\" Time (s)\")\n",
    "plt.ylabel(\"Error (m)\")\n",
    "plt.grid()\n",
    "plt.tight_layout()\n",
    "plt.show()"
   ]
  },
  {
   "cell_type": "markdown",
   "id": "fab2aa47",
   "metadata": {},
   "source": [
    "#### Discussion\n",
    "The maximum error peak and another large peak occur around the missing data points of \n",
    "14.1-14.3s and 10.1-10.4s respectively. This is to be expected as the missing data points result in a larger interval for the spanning cubic interpolant (four and five times longer respectively)."
   ]
  },
  {
   "cell_type": "markdown",
   "id": "1a7f458f",
   "metadata": {},
   "source": [
    "#### Part 4.4: Futher Investigation"
   ]
  },
  {
   "cell_type": "markdown",
   "id": "ea52ddb6",
   "metadata": {
    "heading_collapsed": true
   },
   "source": [
    "##### 4.4.1 \n",
    "*Finding the value of the maximum 'error' and the time at which it occurs*"
   ]
  },
  {
   "cell_type": "code",
   "execution_count": null,
   "id": "265c1d06",
   "metadata": {
    "ExecuteTime": {
     "end_time": "2023-03-08T10:29:30.774307Z",
     "start_time": "2023-03-08T10:29:30.774292Z"
    },
    "hidden": true
   },
   "outputs": [],
   "source": [
    "errMax = np.max(errors) # Find max error\n",
    "\n",
    "errMax_indx = np.where(errors == errMax) # Find index of max error\n",
    "errMax_time = s_time[errMax_indx][0] # Find time of max error\n",
    "\n",
    "display(md(\"\"\" The largest error of **{:e} m** occurs at {} s.\"\"\".format(errMax, errMax_time)))"
   ]
  },
  {
   "cell_type": "markdown",
   "id": "822e59d0",
   "metadata": {
    "heading_collapsed": true
   },
   "source": [
    "##### 4.4.2\n",
    "*Comparing the 'missing value data' and the value of the corresponding 'errors'*"
   ]
  },
  {
   "cell_type": "code",
   "execution_count": null,
   "id": "2aa2e794",
   "metadata": {
    "ExecuteTime": {
     "end_time": "2023-03-08T10:29:30.775138Z",
     "start_time": "2023-03-08T10:29:30.775120Z"
    },
    "hidden": true
   },
   "outputs": [],
   "source": [
    "def zoomPlot(zoom_coords):\n",
    "    \n",
    "    \"\"\" Function for: (1) visualising the: wave data, scipy.CublicSpline & PWL in the same plot,\n",
    "    (2) plotting the 'error' between scipy.CublicSpline & PWL and (3) then focusing on an x-range \n",
    "    (specified by 'zoom_coords') of interest. \"\"\"\n",
    "    \n",
    "    [z1,z2] = zoom_coords\n",
    "    \n",
    "    global times, elev, s_time, ySpline, PWL, errors, missing\n",
    "    \n",
    "    \n",
    "    fig,(ax2,ax3) = plt.subplots(ncols = 2, figsize=(18,8))\n",
    "    \n",
    "    ax2.plot(s_time, PWL, label = 'PWL', lw = 1, color='blue')\n",
    "    ax2.plot(s_time,ySpline,label='CublicSpline', lw = 1, color = 'green')\n",
    "    ax2.plot(times, elev, label = 'Wave data', lw = 1, color='orange')\n",
    "    \n",
    "    ax2.set_xlim(z1,z2)\n",
    "    \n",
    "    ax2.set_xlabel(r\"Time [s]\")\n",
    "    ax2.set_ylabel(r\"Elevation [m]\")\n",
    "    ax2.set_title(r\"\"\"Fig 4.4.2.2 Comparing Wave data, CublicSpline and PWL \n",
    "on the zoom interval [{}s, {}s] \"\"\".format(z1,z2))\n",
    "\n",
    "    ax2.tick_params(axis = 'both')\n",
    "    ax2.grid()\n",
    "    ax2.legend()\n",
    "    \n",
    "    \n",
    "    ax3.plot(s_time, errors,lw = 1, color='r',label='Errors')\n",
    "\n",
    "    indx = np.where(s_time == missing[0])[0][0]\n",
    "    ax3.scatter(missing[0],errors[indx],color='blue',s=20, label='missing data pts',zorder=5)\n",
    "    ax3.annotate(' {}'.format(missing[0]),[missing[0],errors[indx]])\n",
    "    \n",
    "    for i in missing[1:]:\n",
    "        indx = np.where(s_time == i)[0][0]\n",
    "        ax3.scatter(i,errors[indx],color='blue',s=20,zorder=5)\n",
    "        ax3.annotate(' {}'.format(i),[i,errors[indx]])\n",
    "\n",
    "    ax3.axvline(z1,ls='--',lw =1, color='grey', label = 'zoom window')\n",
    "    ax3.axvline(z2,ls='--',lw =1, color='grey')\n",
    "    ax3.set_xlabel(r\"Time [s]\")\n",
    "    ax3.set_ylabel(r\"Error [m]\")\n",
    "    ax3.set_title(r\"\"\"Fig 4.4.2.3. Error, | PWL - scipy.CubicSpline | on the time interval [0, 20s] with\n",
    "the missing time points are shown.\"\"\")\n",
    "\n",
    "    ax3.tick_params(axis = 'both')\n",
    "    ax3.grid()\n",
    "    ax3.legend()\n",
    "    \n",
    "    plt.tight_layout(pad=3)\n",
    "    \n",
    "    plt.show()\n",
    "    \n",
    "zoomPlot([13.7,14.7])"
   ]
  },
  {
   "cell_type": "markdown",
   "id": "c925bbd0",
   "metadata": {
    "hidden": true
   },
   "source": [
    "The maximum error occurs at 14.16s because:\n",
    "\n",
    "(1) CubicSpline uses Hermite polynomial scheme for the interpolation and hence will typlically involve higher order polynomials than the Lagrange interpolation. Hence the the peaks and troughs will be more extended (stretched) in the Hermite case. The effect is more exaggerated with the longer time interval.\n",
    "\n",
    "(2) The diffference between adjacent interpolants increases with time and as a result the second region of missing points has a larger error.\n",
    "\n",
    "The combined effect of (1) and (2) produces an error spike with it's peak approximately at\n",
    "the centre of the extended interval of 14.0 - 14.4s."
   ]
  },
  {
   "cell_type": "markdown",
   "id": "5bb94fd9",
   "metadata": {},
   "source": [
    "## Conclusion"
   ]
  },
  {
   "cell_type": "markdown",
   "id": "b3e1ebae",
   "metadata": {},
   "source": [
    "## Who Did What?"
   ]
  },
  {
   "cell_type": "markdown",
   "id": "96cb1074",
   "metadata": {},
   "source": [
    "In the first meeting of the group, it was discovered that one member had taken a leave of abcense from the university so there were only five team members. It was then decided to split the workload such that Josh completed part 1, Kerry part 2, Isobel part 3 and Will and James would work together on part 4 - which we jugded at first viewing to be the most difficult section. Josh was nominated as the liason to Dr Lucas as he would be finished his section first, as other sections relied on its results. Each person or pair was to write any accompanying text to the code that they had written and Josh would be in charge of collating the sections."
   ]
  }
 ],
 "metadata": {
  "kernelspec": {
   "display_name": "Python 3 (ipykernel)",
   "language": "python",
   "name": "python3"
  },
  "language_info": {
   "codemirror_mode": {
    "name": "ipython",
    "version": 3
   },
   "file_extension": ".py",
   "mimetype": "text/x-python",
   "name": "python",
   "nbconvert_exporter": "python",
   "pygments_lexer": "ipython3",
   "version": "3.9.7"
  },
  "toc": {
   "base_numbering": 1,
   "nav_menu": {},
   "number_sections": false,
   "sideBar": true,
   "skip_h1_title": false,
   "title_cell": "Table of Contents",
   "title_sidebar": "Contents",
   "toc_cell": false,
   "toc_position": {},
   "toc_section_display": true,
   "toc_window_display": true
  },
  "varInspector": {
   "cols": {
    "lenName": 16,
    "lenType": 16,
    "lenVar": 40
   },
   "kernels_config": {
    "python": {
     "delete_cmd_postfix": "",
     "delete_cmd_prefix": "del ",
     "library": "var_list.py",
     "varRefreshCmd": "print(var_dic_list())"
    },
    "r": {
     "delete_cmd_postfix": ") ",
     "delete_cmd_prefix": "rm(",
     "library": "var_list.r",
     "varRefreshCmd": "cat(var_dic_list()) "
    }
   },
   "types_to_exclude": [
    "module",
    "function",
    "builtin_function_or_method",
    "instance",
    "_Feature"
   ],
   "window_display": false
  }
 },
 "nbformat": 4,
 "nbformat_minor": 5
}
