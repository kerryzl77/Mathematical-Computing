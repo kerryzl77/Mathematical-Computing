{
 "cells": [
  {
   "cell_type": "markdown",
   "id": "c47743f7",
   "metadata": {},
   "source": [
    "## Instructions\n",
    "\n",
    "Before you turn this problem in, make sure everything runs as expected. First, **restart the kernel** (in the menubar, select Kernel$\\rightarrow$Restart) and then **run all cells** (in the menubar, select Cell$\\rightarrow$Run All).\n",
    "\n",
    "Please see the [module book](https://moody.st-andrews.ac.uk/moodle/mod/resource/view.php?id=950238) for full instructions on completing your tutorial work.\n",
    "\n",
    "Make sure you *only* fill in places that say `YOUR CODE HERE` or \"YOUR ANSWER HERE\". Replace the contents of those cells only, changing other cells may prevent grading.\n",
    "\n",
    "When using matplotlib please make sure to use the inline option (not notebook) to allow grading: \n",
    "`%matplotlib inline`\n",
    "\n"
   ]
  },
  {
   "cell_type": "markdown",
   "id": "79e168f7",
   "metadata": {},
   "source": [
    "---"
   ]
  },
  {
   "cell_type": "markdown",
   "id": "db78b8ca",
   "metadata": {
    "deletable": false,
    "editable": false,
    "nbgrader": {
     "cell_type": "markdown",
     "checksum": "38030c0cd5cdd8f7f8ce71aabd985600",
     "grade": false,
     "grade_id": "cell-cfac08fc6ba1593e",
     "locked": true,
     "schema_version": 3,
     "solution": false,
     "task": false
    }
   },
   "source": [
    "<font size=\"4\" >\n",
    "\n",
    "# Tutorial 6: Cubic Splines\n",
    "    \n",
    "Consider the function\n",
    "\n",
    "$$f(x) = \\sin(x),\\qquad \\qquad x\\in[-\\pi/2,\\pi/2] $$\n",
    "\n",
    "### Q1\n",
    "    \n",
    "* Define the Python function `f(x)` for $f(x)$ above.\n",
    "    \n",
    "* In numpy arrays named `xk` and `yk` sample $f(x)$ on the interval above with 10 evenly spaced points in $x$.\n",
    "    \n",
    "* Using `xk` and `yk` perform a cubic spline interpolation using the *natural spline* $S'' = 0$ boundary conditions. You may use `scipy.interpolate.CubicSpline`. Sample with 100 new evaluation points, again evenly spaced, on the same interval, and provide the new values in an array `ySpline`.\n",
    "\n",
    " **[2]**"
   ]
  },
  {
   "cell_type": "code",
   "execution_count": 11,
   "id": "6b27ef49",
   "metadata": {
    "ExecuteTime": {
     "end_time": "2023-03-05T20:30:18.721254Z",
     "start_time": "2023-03-05T20:30:18.702212Z"
    },
    "nbgrader": {
     "cell_type": "code",
     "checksum": "516d88de2ee05aceb31ca7fa505aa29b",
     "grade": false,
     "grade_id": "cell-73194c64699a29e2",
     "locked": false,
     "schema_version": 3,
     "solution": true,
     "task": false
    }
   },
   "outputs": [
    {
     "data": {
      "text/plain": [
       "array([-1.57079633, -1.22173048, -0.87266463, -0.52359878, -0.17453293,\n",
       "        0.17453293,  0.52359878,  0.87266463,  1.22173048,  1.57079633])"
      ]
     },
     "execution_count": 11,
     "metadata": {},
     "output_type": "execute_result"
    }
   ],
   "source": [
    "# your code goes here\n",
    "%matplotlib inline\n",
    "import numpy as np\n",
    "import matplotlib.pyplot as plt\n",
    "from scipy.interpolate import CubicSpline\n",
    "\n",
    "def f(x): # Define f(x)\n",
    "    return np.sin(x)\n",
    "\n",
    "# Interval \n",
    "a = -np.pi/2\n",
    "b = np.pi/2\n",
    "\n",
    "M = 10  # set 10 evenly spaced points in x\n",
    "N = 100 # set 100 new evaluation points\n",
    "xk = np.linspace(a,b,M)\n",
    "# print(xk)\n",
    "x = np.linspace(a,b,N)\n",
    "yk = f(xk)\n",
    "ySpline = CubicSpline(xk, yk,bc_type='natural')(x)  # array ySpline to store new values\n",
    "\n",
    "xk\n",
    "# plt.plot(x,f(x),label=r'$f(x)$')           \n",
    "# plt.plot(xk,yk,'kx',mew=2,label='sampled data')\n",
    "# plt.plot(x,ySpline,'.',label='scipy spline')\n",
    "# plt.xlabel('x') \n",
    "# plt.ylabel('f(x)')\n",
    "# plt.legend()\n",
    "# plt.title('Spline interpolation')\n"
   ]
  },
  {
   "cell_type": "code",
   "execution_count": 2,
   "id": "f60279e4",
   "metadata": {
    "ExecuteTime": {
     "end_time": "2023-03-05T20:28:02.685721Z",
     "start_time": "2023-03-05T20:28:02.682001Z"
    },
    "deletable": false,
    "editable": false,
    "nbgrader": {
     "cell_type": "code",
     "checksum": "3868f312b5053d4ab6b97e63bceb1dbc",
     "grade": true,
     "grade_id": "cell-201894cc3b36ba23",
     "locked": true,
     "points": 2,
     "schema_version": 3,
     "solution": false,
     "task": false
    }
   },
   "outputs": [],
   "source": [
    "# Don't edit this cell\n",
    "if not \"f\" in globals():\n",
    "    raise NotImplementedError(\"f has not been defined in Question 1\")\n",
    "if not \"yk\" in globals():\n",
    "    raise NotImplementedError(\"yk has not been defined in Question 1\")\n",
    "if not \"ySpline\" in globals():\n",
    "    raise NotImplementedError(\"ySpline has not been defined in Question 1\")\n"
   ]
  },
  {
   "cell_type": "markdown",
   "id": "c360e650",
   "metadata": {
    "deletable": false,
    "editable": false,
    "nbgrader": {
     "cell_type": "markdown",
     "checksum": "18826a98d36f4159bc951672730fbd5a",
     "grade": false,
     "grade_id": "cell-e80a6fb579d3f222",
     "locked": true,
     "schema_version": 3,
     "solution": false,
     "task": false
    }
   },
   "source": [
    "<font size=\"4\" >\n",
    "\n",
    "### Q2\n",
    "\n",
    "Compute the maximum absolute error between your `ySpline` data and the exact function `f(x)`, store in a Python variable `maxError1` and print it (make sure your error is positive). **[1]**"
   ]
  },
  {
   "cell_type": "code",
   "execution_count": 3,
   "id": "1f444f58",
   "metadata": {
    "ExecuteTime": {
     "end_time": "2023-03-05T20:28:02.705568Z",
     "start_time": "2023-03-05T20:28:02.687605Z"
    },
    "nbgrader": {
     "cell_type": "code",
     "checksum": "88cc39931e3b0807b40faf1793b88e0b",
     "grade": false,
     "grade_id": "cell-02a3d9842cfc29a5",
     "locked": false,
     "schema_version": 3,
     "solution": true,
     "task": false
    }
   },
   "outputs": [],
   "source": [
    "# your code goes here\n",
    "maxError = np.abs(ySpline-f(x))\n",
    "maxError1 = np.max(maxError)\n",
    "\n",
    "# print(maxError1)\n",
    "# plt.plot(x,maxError1,label='scipy spline error')   \n",
    "# plt.xlabel('$x$') \n",
    "# plt.ylabel(r'$p_{10}(x)-f(x)$')\n",
    "# plt.title('Error in interpolant')\n",
    "# plt.legend()"
   ]
  },
  {
   "cell_type": "code",
   "execution_count": 4,
   "id": "931d4e9b",
   "metadata": {
    "ExecuteTime": {
     "end_time": "2023-03-05T20:28:02.723279Z",
     "start_time": "2023-03-05T20:28:02.707258Z"
    },
    "deletable": false,
    "editable": false,
    "nbgrader": {
     "cell_type": "code",
     "checksum": "1bea92d911cfa3d503b8745a908b28f2",
     "grade": true,
     "grade_id": "cell-8a2cfb2ab5915d65",
     "locked": true,
     "points": 1,
     "schema_version": 3,
     "solution": false,
     "task": false
    }
   },
   "outputs": [
    {
     "name": "stdout",
     "output_type": "stream",
     "text": [
      "0.006066928880171241\n"
     ]
    }
   ],
   "source": [
    "# Don't edit this cell\n",
    "if not \"maxError1\" in globals():\n",
    "    raise NotImplementedError(\"maxError1 has not been defined in Question 2\")\n",
    "else:\n",
    "    print(maxError1)"
   ]
  },
  {
   "cell_type": "markdown",
   "id": "b54996dd",
   "metadata": {
    "deletable": false,
    "editable": false,
    "nbgrader": {
     "cell_type": "markdown",
     "checksum": "593b7f7ee71da472b7d6f2e8665b9468",
     "grade": false,
     "grade_id": "cell-c359ff40452bceb1",
     "locked": true,
     "schema_version": 3,
     "solution": false,
     "task": false
    }
   },
   "source": [
    "<font size=\"4\">\n",
    "\n",
    "### Q3\n",
    "    \n",
    "Change the cubic spline boundary condition to something more appropriate for this interval and function, obtain a new maximum error in a variable `maxError2` and print it. **[1]**"
   ]
  },
  {
   "cell_type": "code",
   "execution_count": 5,
   "id": "abd4ec44",
   "metadata": {
    "ExecuteTime": {
     "end_time": "2023-03-05T20:28:02.739427Z",
     "start_time": "2023-03-05T20:28:02.725598Z"
    },
    "nbgrader": {
     "cell_type": "code",
     "checksum": "cbb63811445eb9301ef04dd92bde70eb",
     "grade": false,
     "grade_id": "cell-a6643bd1b7db1a83",
     "locked": false,
     "schema_version": 3,
     "solution": true,
     "task": false
    }
   },
   "outputs": [],
   "source": [
    "# your code goes here\n",
    "# Interval \n",
    "\n",
    "xk2 = np.linspace(a,b,M)\n",
    "x2 = np.linspace(a,b,N)\n",
    "yk2 = f(xk2)\n",
    "ySpline2 = CubicSpline(xk2, yk2, bc_type='clamped')(x2) \n",
    "maxError = np.abs(ySpline2-f(x2))\n",
    "maxError2 = np.max(maxError)\n",
    "# plt.plot(x2,maxError2,label='scipy spline error')   \n",
    "# plt.xlabel('$x$') \n",
    "# plt.ylabel(r'$p_{10}(x)-f(x)$')\n",
    "# plt.title('Error in interpolant')\n",
    "# plt.legend()"
   ]
  },
  {
   "cell_type": "code",
   "execution_count": 6,
   "id": "4eebfd09",
   "metadata": {
    "ExecuteTime": {
     "end_time": "2023-03-05T20:28:02.756357Z",
     "start_time": "2023-03-05T20:28:02.740949Z"
    },
    "deletable": false,
    "editable": false,
    "nbgrader": {
     "cell_type": "code",
     "checksum": "e98b3fc16fa19680f2dfadb6bd7bdcae",
     "grade": true,
     "grade_id": "cell-563ad540a985be88",
     "locked": true,
     "points": 1,
     "schema_version": 3,
     "solution": false,
     "task": false
    }
   },
   "outputs": [
    {
     "name": "stdout",
     "output_type": "stream",
     "text": [
      "3.8703044756727145e-05\n"
     ]
    }
   ],
   "source": [
    "# Don't edit this cell\n",
    "if not \"maxError2\" in globals():\n",
    "    raise NotImplementedError(\"maxError2 has not been defined in Question 3\")\n",
    "else:\n",
    "    print(maxError2)"
   ]
  },
  {
   "cell_type": "markdown",
   "id": "0b67260f",
   "metadata": {
    "deletable": false,
    "editable": false,
    "nbgrader": {
     "cell_type": "markdown",
     "checksum": "cb707b7f97fc79217b926545b70f1d18",
     "grade": false,
     "grade_id": "cell-bdfb857195d86c59",
     "locked": true,
     "schema_version": 3,
     "solution": false,
     "task": false
    }
   },
   "source": [
    "<font size=\"4\" >\n",
    "\n",
    "### Q4\n",
    "\n",
    "Suggest a different interval $x\\in[a,b]$, of the same length (i.e. $b-a=\\pi$), with reasoning in the comment cell, for which the error will reduce when employing a *natural* spline with the same `f`. Resample `f` on this new interval, again with 10 evenly spaced points, compute the spline with natural boundary conditions, obtain the error and store it in the variable `maxError3`. **[2]**"
   ]
  },
  {
   "cell_type": "code",
   "execution_count": 7,
   "id": "50607569",
   "metadata": {
    "ExecuteTime": {
     "end_time": "2023-03-05T20:28:02.772730Z",
     "start_time": "2023-03-05T20:28:02.757985Z"
    },
    "nbgrader": {
     "cell_type": "code",
     "checksum": "0aa707bb2b519243a68c406eb7178e2b",
     "grade": false,
     "grade_id": "cell-d1ef9f48b8414903",
     "locked": false,
     "schema_version": 3,
     "solution": true,
     "task": false
    }
   },
   "outputs": [],
   "source": [
    "# your code goes here\n",
    "a3 = 0  # new interval \n",
    "b3 = np.pi\n",
    "\n",
    "xk3 = np.linspace(a3,b3,M)\n",
    "x3 = np.linspace(a3,b3,N)\n",
    "yk3 = f(xk3)\n",
    "ySpline3 = CubicSpline(xk3, yk3, bc_type='natural')(x3) \n",
    "maxError = np.abs(ySpline3-f(x3))\n",
    "maxError3 = np.max(maxError)\n",
    "\n",
    "# plt.plot(x3,maxError3,label='scipy spline error')   \n",
    "# plt.xlabel('$x$') \n",
    "# plt.ylabel(r'$p_{10}(x)-f(x)$')\n",
    "# plt.title('Error in interpolant')\n",
    "# plt.legend()"
   ]
  },
  {
   "cell_type": "markdown",
   "id": "65f8d21f",
   "metadata": {
    "nbgrader": {
     "cell_type": "markdown",
     "checksum": "819bb946874eaadc600f9a7fe530b8fd",
     "grade": true,
     "grade_id": "cell-ef87b8ddfa3bc680",
     "locked": false,
     "points": 1,
     "schema_version": 3,
     "solution": true,
     "task": false
    }
   },
   "source": [
    "YOUR ANSWER HERE\n",
    "***\n",
    "Since for the interval [a,b] approximation is not accurate at the end point, and the natural spline requires the second derivative to be zero at the boundary condition, we shall take the interval [0,pi] which boundary condition is well-defined, therefore more accurate at both ends. \n",
    "***"
   ]
  },
  {
   "cell_type": "code",
   "execution_count": 8,
   "id": "d0024114",
   "metadata": {
    "ExecuteTime": {
     "end_time": "2023-03-05T20:28:02.787955Z",
     "start_time": "2023-03-05T20:28:02.774693Z"
    },
    "deletable": false,
    "editable": false,
    "nbgrader": {
     "cell_type": "code",
     "checksum": "6dc2752262de754219f9a120226e1ba5",
     "grade": true,
     "grade_id": "cell-964ae0835b084af9",
     "locked": true,
     "points": 1,
     "schema_version": 3,
     "solution": false,
     "task": false
    }
   },
   "outputs": [
    {
     "name": "stdout",
     "output_type": "stream",
     "text": [
      "3.920701404136473e-05\n"
     ]
    }
   ],
   "source": [
    "# Don't edit this cell\n",
    "if not \"maxError3\" in globals():\n",
    "    raise NotImplementedError(\"maxError3 has not been defined in Question 4\")\n",
    "else:\n",
    "    print(maxError3)"
   ]
  },
  {
   "cell_type": "markdown",
   "id": "5bb33272",
   "metadata": {
    "deletable": false,
    "editable": false,
    "nbgrader": {
     "cell_type": "markdown",
     "checksum": "709eadc3d3b03af95cd260a88f31c451",
     "grade": false,
     "grade_id": "cell-e899ad69f864bf10",
     "locked": true,
     "schema_version": 3,
     "solution": false,
     "task": false
    }
   },
   "source": [
    "#### Non-assessed\n",
    "\n",
    "It is possible to interpolate a 2D function (surface) using a *convolution* of interpolation formulae; see the notebook \"Extra_2Dinterpolation\" for a discussion and an example to attempt."
   ]
  }
 ],
 "metadata": {
  "kernelspec": {
   "display_name": "Python 3 (ipykernel)",
   "language": "python",
   "name": "python3"
  },
  "language_info": {
   "codemirror_mode": {
    "name": "ipython",
    "version": 3
   },
   "file_extension": ".py",
   "mimetype": "text/x-python",
   "name": "python",
   "nbconvert_exporter": "python",
   "pygments_lexer": "ipython3",
   "version": "3.9.7"
  },
  "toc": {
   "base_numbering": 1,
   "nav_menu": {},
   "number_sections": false,
   "sideBar": true,
   "skip_h1_title": false,
   "title_cell": "Table of Contents",
   "title_sidebar": "Contents",
   "toc_cell": false,
   "toc_position": {},
   "toc_section_display": true,
   "toc_window_display": false
  },
  "varInspector": {
   "cols": {
    "lenName": 16,
    "lenType": 16,
    "lenVar": 40
   },
   "kernels_config": {
    "python": {
     "delete_cmd_postfix": "",
     "delete_cmd_prefix": "del ",
     "library": "var_list.py",
     "varRefreshCmd": "print(var_dic_list())"
    },
    "r": {
     "delete_cmd_postfix": ") ",
     "delete_cmd_prefix": "rm(",
     "library": "var_list.r",
     "varRefreshCmd": "cat(var_dic_list()) "
    }
   },
   "types_to_exclude": [
    "module",
    "function",
    "builtin_function_or_method",
    "instance",
    "_Feature"
   ],
   "window_display": false
  }
 },
 "nbformat": 4,
 "nbformat_minor": 5
}
