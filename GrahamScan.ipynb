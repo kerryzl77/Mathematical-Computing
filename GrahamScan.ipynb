{
 "cells": [
  {
   "cell_type": "markdown",
   "id": "c3389a4f",
   "metadata": {},
   "source": [
    "## Instructions\n",
    "\n",
    "Before you turn this problem in, make sure everything runs as expected. First, **restart the kernel** (in the menubar, select Kernel$\\rightarrow$Restart) and then **run all cells** (in the menubar, select Cell$\\rightarrow$Run All).\n",
    "\n",
    "Please see the [module book](https://moody.st-andrews.ac.uk/moodle/mod/resource/view.php?id=950238) for full instructions on completing your tutorial work.\n",
    "\n",
    "Make sure you *only* fill in places that say `YOUR CODE HERE` or \"YOUR ANSWER HERE\". Replace the contents of those cells only, changing other cells may prevent grading.\n",
    "\n",
    "When using matplotlib please make sure to use the inline option (not notebook) to allow grading: \n",
    "`%matplotlib inline`\n",
    "\n"
   ]
  },
  {
   "cell_type": "markdown",
   "id": "b38eb6cb",
   "metadata": {},
   "source": [
    "---"
   ]
  },
  {
   "cell_type": "markdown",
   "id": "1d83159d",
   "metadata": {
    "deletable": false,
    "editable": false,
    "nbgrader": {
     "cell_type": "markdown",
     "checksum": "41421648623c34b664c35b797384d276",
     "grade": false,
     "grade_id": "cell-87dfa10d88b2df5d",
     "locked": true,
     "schema_version": 3,
     "solution": false,
     "task": false
    }
   },
   "source": [
    "<font size=\"4\" color=#2e2a7f>\n",
    "\n",
    "# Tutorial 4: The Graham scan algorithm\n",
    "   \n",
    "----\n",
    "    \n",
    "**Before attempting this tutorial please watch the accompanying [video](https://st-andrews.cloud.panopto.eu/Panopto/Pages/Viewer.aspx?id=ef11244d-104d-4faf-be36-af9400d86615) on the Graham scan algorithm where the method is discussed and a pseudocode is provided.**\n",
    "    \n",
    "    \n",
    "**Please do not be tempted to use code found online or copy from a classmate; we will be running all notebooks through plagiarism detection software and will easily identify copied work.**\n",
    "    \n",
    "----\n",
    "    \n",
    "Create, from scratch, your own version of the Graham scan algorithm for computing the convex hull. Your code should be in the form of a function `get_hull(points)` which takes as argument a $2\\times N$ array of point coordinate pairs $(x,y)$ and returns the subset of those points which would make up the vertices of the convex hull.\n",
    "    \n",
    "The function should be tested by the following\n",
    "    \n",
    "```python\n",
    "points = np.random.rand(2,N)\n",
    "hull = get_hull(points)\n",
    "\n",
    "plt.plot(points[0,:],points[1,:],'.')\n",
    "plt.plot(np.append(hull[0,:],hull[0,0]),np.append(hull[1,:],hull[1,0])) \n",
    "    # append is used to close the hull\n",
    "plt.show()    \n",
    "```\n",
    "    \n",
    "and will be tested against several different arrays of points for grading. Marks out of 10 including 3 marks for good programming practise (e.g. use of comments, functions, readability etc).\n",
    "    \n",
    "Note, as described in the video, your hull must begin with the point with lowest $y$ coordinate. Your function should take a $2\\times N$ `numpy` array as input and return a $2\\times M$ `numpy` array, where $M$ is the size of the hull.\n",
    "    \n",
    "Credit will be awarded via the following tests:\n",
    "    \n",
    "* The returned variable (`hull` above) is of the correct `type` (same as `points` above).\n",
    "* The returned array has the correct size and shape.\n",
    "* The trivial hull of 3 points is returned.\n",
    "* The correct subset of points is recovered for any N."
   ]
  },
  {
   "cell_type": "code",
   "execution_count": 1,
   "id": "ded2f478",
   "metadata": {
    "ExecuteTime": {
     "end_time": "2023-02-12T21:36:41.289459Z",
     "start_time": "2023-02-12T21:36:40.718290Z"
    },
    "nbgrader": {
     "cell_type": "code",
     "checksum": "d101cc76964562cb6c3034cc930ce110",
     "grade": true,
     "grade_id": "cell-92fecac723836420",
     "locked": false,
     "points": 3,
     "schema_version": 3,
     "solution": true,
     "task": false
    }
   },
   "outputs": [
    {
     "data": {
      "image/png": "[encoded data removed]",
      "text/plain": [
       "<Figure size 432x288 with 1 Axes>"
      ]
     },
     "metadata": {
      "needs_background": "light"
     },
     "output_type": "display_data"
    }
   ],
   "source": [
    "# your code goes here\n",
    "import numpy as np \n",
    "from matplotlib import pyplot as plt\n",
    "\n",
    "N = 10\n",
    "points = np.random.rand(2,N)\n",
    "\n",
    "# Create a method det, input with three points in [x,y] form\n",
    "# if their vector product is positive, it identify a left turn\n",
    "def cross_product(point1, point2, point3):\n",
    "    x1, y1 = point1\n",
    "    x2, y2 = point2\n",
    "    x3, y3 = point3\n",
    "    return (x2 - x1) * (y3 - y1) - (x3 - x1) * (y2 - y1)\n",
    "\n",
    "\n",
    "# The get_hulll method which accept a 2*N matrix input \n",
    "def get_hull(points):\n",
    "    # Find the Min y to start with \n",
    "    min_index = np.argmin(points[1,:])\n",
    "    # Transpose 'points' into N * 2 matrix, points ordered as (x,y)\n",
    "    data = np.transpose(points)\n",
    "    # The lowest y point 'start' to start with \n",
    "    start = data[min_index]\n",
    "    inverse_gradient = []\n",
    "    # Coordinates of starting point\n",
    "    x_val = points[0,min_index]\n",
    "    y_val = points[1,min_index]\n",
    "\n",
    "    for i in range (N):\n",
    "        y_distance = (points[1,i]-y_val)\n",
    "        # the starting point and itself -- avoid divided by zero\n",
    "        if y_distance == 0: y_distance = 1\n",
    "        val = ((points[0,i]-x_val)/(y_distance))\n",
    "        # Append the list with x,y coordinates of the point and their inverse_gradient \n",
    "        inverse_gradient.append([points[0,i],points[1,i],val])\n",
    "    \n",
    "    inverse_gradient = np.array(inverse_gradient)\n",
    "    # sorts the data based on 'inverse_gradient' column \n",
    "    # slices the data to retain only [x,y],i.e the first two columns \n",
    "    sorted_data = inverse_gradient[inverse_gradient[:, 2].argsort()][:, :2]\n",
    "    # initializes the convex hull with two points\n",
    "    convex_hull = [start, sorted_data[0]]\n",
    "\n",
    "        \n",
    "    for curr_point in sorted_data[1:]:\n",
    "        # length check of trivial hull of at least three point && identify left turn \n",
    "        while len(convex_hull) >= 3 and cross_product(convex_hull[-2], convex_hull[-1], curr_point) > 0:\n",
    "            convex_hull.pop()\n",
    "        convex_hull.append(curr_point)\n",
    "\n",
    "    # Convert it back to the 2*M format \n",
    "    hull = np.transpose(convex_hull)\n",
    "    \n",
    "    plt.plot(points[0,:],points[1,:],'.')\n",
    "    plt.plot(np.append(hull[0,:],hull[0,0]),np.append(hull[1,:],hull[1,0])) \n",
    "    # append is used to close the hull\n",
    "    plt.show() \n",
    "\n",
    "get_hull(points)"
   ]
  },
  {
   "cell_type": "code",
   "execution_count": 2,
   "id": "af8e43b4",
   "metadata": {
    "ExecuteTime": {
     "end_time": "2023-02-12T21:36:41.294197Z",
     "start_time": "2023-02-12T21:36:41.291481Z"
    },
    "deletable": false,
    "editable": false,
    "nbgrader": {
     "cell_type": "code",
     "checksum": "7b4fc82fef2a3a7885d497ed8921ff7e",
     "grade": true,
     "grade_id": "cell-5dc4682462f444e8",
     "locked": true,
     "points": 7,
     "schema_version": 3,
     "solution": false,
     "task": false
    }
   },
   "outputs": [],
   "source": [
    "# Don't edit this cell\n",
    "\n",
    "if not \"get_hull\" in globals():\n",
    "    raise NotImplementedError(\"get_hull has not been defined\")\n"
   ]
  },
  {
   "cell_type": "code",
   "execution_count": null,
   "id": "ccafee88",
   "metadata": {
    "ExecuteTime": {
     "end_time": "2023-02-11T11:17:04.063569Z",
     "start_time": "2023-02-11T11:17:03.841235Z"
    }
   },
   "outputs": [],
   "source": []
  }
 ],
 "metadata": {
  "kernelspec": {
   "display_name": "Python 3 (ipykernel)",
   "language": "python",
   "name": "python3"
  },
  "language_info": {
   "codemirror_mode": {
    "name": "ipython",
    "version": 3
   },
   "file_extension": ".py",
   "mimetype": "text/x-python",
   "name": "python",
   "nbconvert_exporter": "python",
   "pygments_lexer": "ipython3",
   "version": "3.9.7"
  },
  "toc": {
   "base_numbering": 1,
   "nav_menu": {},
   "number_sections": false,
   "sideBar": true,
   "skip_h1_title": false,
   "title_cell": "Table of Contents",
   "title_sidebar": "Contents",
   "toc_cell": false,
   "toc_position": {},
   "toc_section_display": true,
   "toc_window_display": false
  },
  "varInspector": {
   "cols": {
    "lenName": 16,
    "lenType": 16,
    "lenVar": 40
   },
   "kernels_config": {
    "python": {
     "delete_cmd_postfix": "",
     "delete_cmd_prefix": "del ",
     "library": "var_list.py",
     "varRefreshCmd": "print(var_dic_list())"
    },
    "r": {
     "delete_cmd_postfix": ") ",
     "delete_cmd_prefix": "rm(",
     "library": "var_list.r",
     "varRefreshCmd": "cat(var_dic_list()) "
    }
   },
   "types_to_exclude": [
    "module",
    "function",
    "builtin_function_or_method",
    "instance",
    "_Feature"
   ],
   "window_display": false
  }
 },
 "nbformat": 4,
 "nbformat_minor": 5
}
